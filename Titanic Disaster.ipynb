{
 "cells": [
  {
   "cell_type": "markdown",
   "id": "b023a567",
   "metadata": {
    "papermill": {
     "duration": 0.011808,
     "end_time": "2024-09-20T12:02:53.932032",
     "exception": false,
     "start_time": "2024-09-20T12:02:53.920224",
     "status": "completed"
    },
    "tags": []
   },
   "source": [
    "# **Import Necessary Libraries**"
   ]
  },
  {
   "cell_type": "code",
   "execution_count": 1,
   "id": "7e4aab43",
   "metadata": {
    "_cell_guid": "b1076dfc-b9ad-4769-8c92-a6c4dae69d19",
    "_uuid": "8f2839f25d086af736a60e9eeb907d3b93b6e0e5",
    "execution": {
     "iopub.execute_input": "2024-09-20T12:02:53.956096Z",
     "iopub.status.busy": "2024-09-20T12:02:53.955629Z",
     "iopub.status.idle": "2024-09-20T12:02:56.368588Z",
     "shell.execute_reply": "2024-09-20T12:02:56.367384Z"
    },
    "papermill": {
     "duration": 2.428124,
     "end_time": "2024-09-20T12:02:56.371312",
     "exception": false,
     "start_time": "2024-09-20T12:02:53.943188",
     "status": "completed"
    },
    "tags": []
   },
   "outputs": [],
   "source": [
    "import numpy as np\n",
    "import pandas as pd\n",
    "import matplotlib.pyplot as plt\n",
    "import seaborn as sns\n",
    "import warnings\n",
    "warnings.filterwarnings('ignore')\n",
    "from sklearn.linear_model import LogisticRegression as lr\n",
    "from sklearn.model_selection import train_test_split\n",
    "from sklearn.metrics import confusion_matrix, accuracy_score, precision_score, f1_score, recall_score"
   ]
  },
  {
   "cell_type": "markdown",
   "id": "f8ccbd8f",
   "metadata": {
    "papermill": {
     "duration": 0.010805,
     "end_time": "2024-09-20T12:02:56.393311",
     "exception": false,
     "start_time": "2024-09-20T12:02:56.382506",
     "status": "completed"
    },
    "tags": []
   },
   "source": [
    "# **Hey there!**\n",
    "Today, I'm going to show you how to build a **Logistic Regression Model**. Let's start by loading the **Titanic dataset** from scikit-learn:"
   ]
  },
  {
   "cell_type": "code",
   "execution_count": 2,
   "id": "d2d659d1",
   "metadata": {
    "execution": {
     "iopub.execute_input": "2024-09-20T12:02:56.418080Z",
     "iopub.status.busy": "2024-09-20T12:02:56.417464Z",
     "iopub.status.idle": "2024-09-20T12:02:57.680196Z",
     "shell.execute_reply": "2024-09-20T12:02:57.678786Z"
    },
    "papermill": {
     "duration": 1.278846,
     "end_time": "2024-09-20T12:02:57.683251",
     "exception": false,
     "start_time": "2024-09-20T12:02:56.404405",
     "status": "completed"
    },
    "tags": []
   },
   "outputs": [],
   "source": [
    "df = sns.load_dataset('titanic')"
   ]
  },
  {
   "cell_type": "code",
   "execution_count": 3,
   "id": "9479a322",
   "metadata": {
    "execution": {
     "iopub.execute_input": "2024-09-20T12:02:57.706968Z",
     "iopub.status.busy": "2024-09-20T12:02:57.706500Z",
     "iopub.status.idle": "2024-09-20T12:02:57.734296Z",
     "shell.execute_reply": "2024-09-20T12:02:57.733244Z"
    },
    "papermill": {
     "duration": 0.042651,
     "end_time": "2024-09-20T12:02:57.736983",
     "exception": false,
     "start_time": "2024-09-20T12:02:57.694332",
     "status": "completed"
    },
    "tags": []
   },
   "outputs": [
    {
     "data": {
      "text/html": [
       "<div>\n",
       "<style scoped>\n",
       "    .dataframe tbody tr th:only-of-type {\n",
       "        vertical-align: middle;\n",
       "    }\n",
       "\n",
       "    .dataframe tbody tr th {\n",
       "        vertical-align: top;\n",
       "    }\n",
       "\n",
       "    .dataframe thead th {\n",
       "        text-align: right;\n",
       "    }\n",
       "</style>\n",
       "<table border=\"1\" class=\"dataframe\">\n",
       "  <thead>\n",
       "    <tr style=\"text-align: right;\">\n",
       "      <th></th>\n",
       "      <th>survived</th>\n",
       "      <th>pclass</th>\n",
       "      <th>sex</th>\n",
       "      <th>age</th>\n",
       "      <th>sibsp</th>\n",
       "      <th>parch</th>\n",
       "      <th>fare</th>\n",
       "      <th>embarked</th>\n",
       "      <th>class</th>\n",
       "      <th>who</th>\n",
       "      <th>adult_male</th>\n",
       "      <th>deck</th>\n",
       "      <th>embark_town</th>\n",
       "      <th>alive</th>\n",
       "      <th>alone</th>\n",
       "    </tr>\n",
       "  </thead>\n",
       "  <tbody>\n",
       "    <tr>\n",
       "      <th>0</th>\n",
       "      <td>0</td>\n",
       "      <td>3</td>\n",
       "      <td>male</td>\n",
       "      <td>22.0</td>\n",
       "      <td>1</td>\n",
       "      <td>0</td>\n",
       "      <td>7.2500</td>\n",
       "      <td>S</td>\n",
       "      <td>Third</td>\n",
       "      <td>man</td>\n",
       "      <td>True</td>\n",
       "      <td>NaN</td>\n",
       "      <td>Southampton</td>\n",
       "      <td>no</td>\n",
       "      <td>False</td>\n",
       "    </tr>\n",
       "    <tr>\n",
       "      <th>1</th>\n",
       "      <td>1</td>\n",
       "      <td>1</td>\n",
       "      <td>female</td>\n",
       "      <td>38.0</td>\n",
       "      <td>1</td>\n",
       "      <td>0</td>\n",
       "      <td>71.2833</td>\n",
       "      <td>C</td>\n",
       "      <td>First</td>\n",
       "      <td>woman</td>\n",
       "      <td>False</td>\n",
       "      <td>C</td>\n",
       "      <td>Cherbourg</td>\n",
       "      <td>yes</td>\n",
       "      <td>False</td>\n",
       "    </tr>\n",
       "    <tr>\n",
       "      <th>2</th>\n",
       "      <td>1</td>\n",
       "      <td>3</td>\n",
       "      <td>female</td>\n",
       "      <td>26.0</td>\n",
       "      <td>0</td>\n",
       "      <td>0</td>\n",
       "      <td>7.9250</td>\n",
       "      <td>S</td>\n",
       "      <td>Third</td>\n",
       "      <td>woman</td>\n",
       "      <td>False</td>\n",
       "      <td>NaN</td>\n",
       "      <td>Southampton</td>\n",
       "      <td>yes</td>\n",
       "      <td>True</td>\n",
       "    </tr>\n",
       "    <tr>\n",
       "      <th>3</th>\n",
       "      <td>1</td>\n",
       "      <td>1</td>\n",
       "      <td>female</td>\n",
       "      <td>35.0</td>\n",
       "      <td>1</td>\n",
       "      <td>0</td>\n",
       "      <td>53.1000</td>\n",
       "      <td>S</td>\n",
       "      <td>First</td>\n",
       "      <td>woman</td>\n",
       "      <td>False</td>\n",
       "      <td>C</td>\n",
       "      <td>Southampton</td>\n",
       "      <td>yes</td>\n",
       "      <td>False</td>\n",
       "    </tr>\n",
       "    <tr>\n",
       "      <th>4</th>\n",
       "      <td>0</td>\n",
       "      <td>3</td>\n",
       "      <td>male</td>\n",
       "      <td>35.0</td>\n",
       "      <td>0</td>\n",
       "      <td>0</td>\n",
       "      <td>8.0500</td>\n",
       "      <td>S</td>\n",
       "      <td>Third</td>\n",
       "      <td>man</td>\n",
       "      <td>True</td>\n",
       "      <td>NaN</td>\n",
       "      <td>Southampton</td>\n",
       "      <td>no</td>\n",
       "      <td>True</td>\n",
       "    </tr>\n",
       "  </tbody>\n",
       "</table>\n",
       "</div>"
      ],
      "text/plain": [
       "   survived  pclass     sex   age  sibsp  parch     fare embarked  class  \\\n",
       "0         0       3    male  22.0      1      0   7.2500        S  Third   \n",
       "1         1       1  female  38.0      1      0  71.2833        C  First   \n",
       "2         1       3  female  26.0      0      0   7.9250        S  Third   \n",
       "3         1       1  female  35.0      1      0  53.1000        S  First   \n",
       "4         0       3    male  35.0      0      0   8.0500        S  Third   \n",
       "\n",
       "     who  adult_male deck  embark_town alive  alone  \n",
       "0    man        True  NaN  Southampton    no  False  \n",
       "1  woman       False    C    Cherbourg   yes  False  \n",
       "2  woman       False  NaN  Southampton   yes   True  \n",
       "3  woman       False    C  Southampton   yes  False  \n",
       "4    man        True  NaN  Southampton    no   True  "
      ]
     },
     "execution_count": 3,
     "metadata": {},
     "output_type": "execute_result"
    }
   ],
   "source": [
    "df.head()"
   ]
  },
  {
   "cell_type": "markdown",
   "id": "fc04c155",
   "metadata": {
    "papermill": {
     "duration": 0.011001,
     "end_time": "2024-09-20T12:02:57.759718",
     "exception": false,
     "start_time": "2024-09-20T12:02:57.748717",
     "status": "completed"
    },
    "tags": []
   },
   "source": [
    "**Exploring The Data**"
   ]
  },
  {
   "cell_type": "code",
   "execution_count": 4,
   "id": "c8b19e6a",
   "metadata": {
    "execution": {
     "iopub.execute_input": "2024-09-20T12:02:57.784548Z",
     "iopub.status.busy": "2024-09-20T12:02:57.783494Z",
     "iopub.status.idle": "2024-09-20T12:02:57.790837Z",
     "shell.execute_reply": "2024-09-20T12:02:57.789751Z"
    },
    "papermill": {
     "duration": 0.021965,
     "end_time": "2024-09-20T12:02:57.792934",
     "exception": false,
     "start_time": "2024-09-20T12:02:57.770969",
     "status": "completed"
    },
    "tags": []
   },
   "outputs": [
    {
     "data": {
      "text/plain": [
       "Index(['survived', 'pclass', 'sex', 'age', 'sibsp', 'parch', 'fare',\n",
       "       'embarked', 'class', 'who', 'adult_male', 'deck', 'embark_town',\n",
       "       'alive', 'alone'],\n",
       "      dtype='object')"
      ]
     },
     "execution_count": 4,
     "metadata": {},
     "output_type": "execute_result"
    }
   ],
   "source": [
    "df.columns"
   ]
  },
  {
   "cell_type": "code",
   "execution_count": 5,
   "id": "c7f4ea6c",
   "metadata": {
    "execution": {
     "iopub.execute_input": "2024-09-20T12:02:57.817502Z",
     "iopub.status.busy": "2024-09-20T12:02:57.816764Z",
     "iopub.status.idle": "2024-09-20T12:02:57.823406Z",
     "shell.execute_reply": "2024-09-20T12:02:57.822402Z"
    },
    "papermill": {
     "duration": 0.021483,
     "end_time": "2024-09-20T12:02:57.825736",
     "exception": false,
     "start_time": "2024-09-20T12:02:57.804253",
     "status": "completed"
    },
    "tags": []
   },
   "outputs": [
    {
     "data": {
      "text/plain": [
       "(891, 15)"
      ]
     },
     "execution_count": 5,
     "metadata": {},
     "output_type": "execute_result"
    }
   ],
   "source": [
    "df.shape"
   ]
  },
  {
   "cell_type": "code",
   "execution_count": 6,
   "id": "2132c867",
   "metadata": {
    "execution": {
     "iopub.execute_input": "2024-09-20T12:02:57.851206Z",
     "iopub.status.busy": "2024-09-20T12:02:57.850297Z",
     "iopub.status.idle": "2024-09-20T12:02:57.865025Z",
     "shell.execute_reply": "2024-09-20T12:02:57.863921Z"
    },
    "papermill": {
     "duration": 0.030179,
     "end_time": "2024-09-20T12:02:57.867400",
     "exception": false,
     "start_time": "2024-09-20T12:02:57.837221",
     "status": "completed"
    },
    "tags": []
   },
   "outputs": [
    {
     "data": {
      "text/plain": [
       "sex\n",
       "male      577\n",
       "female    314\n",
       "Name: count, dtype: int64"
      ]
     },
     "execution_count": 6,
     "metadata": {},
     "output_type": "execute_result"
    }
   ],
   "source": [
    "check_gender = df['sex'].value_counts()\n",
    "check_gender"
   ]
  },
  {
   "cell_type": "code",
   "execution_count": 7,
   "id": "406dd270",
   "metadata": {
    "execution": {
     "iopub.execute_input": "2024-09-20T12:02:57.893200Z",
     "iopub.status.busy": "2024-09-20T12:02:57.891964Z",
     "iopub.status.idle": "2024-09-20T12:02:57.903579Z",
     "shell.execute_reply": "2024-09-20T12:02:57.902421Z"
    },
    "papermill": {
     "duration": 0.027308,
     "end_time": "2024-09-20T12:02:57.906293",
     "exception": false,
     "start_time": "2024-09-20T12:02:57.878985",
     "status": "completed"
    },
    "tags": []
   },
   "outputs": [
    {
     "data": {
      "text/plain": [
       "adult_male\n",
       "True     537\n",
       "False    354\n",
       "Name: count, dtype: int64"
      ]
     },
     "execution_count": 7,
     "metadata": {},
     "output_type": "execute_result"
    }
   ],
   "source": [
    "adult_male = df['adult_male'].value_counts()\n",
    "adult_male"
   ]
  },
  {
   "cell_type": "code",
   "execution_count": 8,
   "id": "0ac95576",
   "metadata": {
    "execution": {
     "iopub.execute_input": "2024-09-20T12:02:57.931965Z",
     "iopub.status.busy": "2024-09-20T12:02:57.931171Z",
     "iopub.status.idle": "2024-09-20T12:02:57.938629Z",
     "shell.execute_reply": "2024-09-20T12:02:57.937509Z"
    },
    "papermill": {
     "duration": 0.022701,
     "end_time": "2024-09-20T12:02:57.940799",
     "exception": false,
     "start_time": "2024-09-20T12:02:57.918098",
     "status": "completed"
    },
    "tags": []
   },
   "outputs": [
    {
     "data": {
      "text/plain": [
       "array(['man', 'woman', 'child'], dtype=object)"
      ]
     },
     "execution_count": 8,
     "metadata": {},
     "output_type": "execute_result"
    }
   ],
   "source": [
    "df['who'].unique()"
   ]
  },
  {
   "cell_type": "markdown",
   "id": "6efcbebd",
   "metadata": {
    "papermill": {
     "duration": 0.011452,
     "end_time": "2024-09-20T12:02:57.963899",
     "exception": false,
     "start_time": "2024-09-20T12:02:57.952447",
     "status": "completed"
    },
    "tags": []
   },
   "source": [
    "**Checking The NULL Values**"
   ]
  },
  {
   "cell_type": "code",
   "execution_count": 9,
   "id": "0fa72ac2",
   "metadata": {
    "execution": {
     "iopub.execute_input": "2024-09-20T12:02:57.989591Z",
     "iopub.status.busy": "2024-09-20T12:02:57.988517Z",
     "iopub.status.idle": "2024-09-20T12:02:57.998685Z",
     "shell.execute_reply": "2024-09-20T12:02:57.997577Z"
    },
    "papermill": {
     "duration": 0.025471,
     "end_time": "2024-09-20T12:02:58.001074",
     "exception": false,
     "start_time": "2024-09-20T12:02:57.975603",
     "status": "completed"
    },
    "tags": []
   },
   "outputs": [
    {
     "data": {
      "text/plain": [
       "survived         0\n",
       "pclass           0\n",
       "sex              0\n",
       "age            177\n",
       "sibsp            0\n",
       "parch            0\n",
       "fare             0\n",
       "embarked         2\n",
       "class            0\n",
       "who              0\n",
       "adult_male       0\n",
       "deck           688\n",
       "embark_town      2\n",
       "alive            0\n",
       "alone            0\n",
       "dtype: int64"
      ]
     },
     "execution_count": 9,
     "metadata": {},
     "output_type": "execute_result"
    }
   ],
   "source": [
    "null_values = df.isnull().sum()\n",
    "null_values"
   ]
  },
  {
   "cell_type": "markdown",
   "id": "8b2a24d6",
   "metadata": {
    "papermill": {
     "duration": 0.012071,
     "end_time": "2024-09-20T12:02:58.024899",
     "exception": false,
     "start_time": "2024-09-20T12:02:58.012828",
     "status": "completed"
    },
    "tags": []
   },
   "source": [
    "# **In the Above OutPut**\n",
    "\n",
    "You can see that we have **NULL values in age, deck, embarked, and embark_town column** so let's fill them.\n",
    "\n",
    "To start, I'll replace the missing age values in the dataset with the **Average Age** of all the passengers."
   ]
  },
  {
   "cell_type": "code",
   "execution_count": 10,
   "id": "6c589562",
   "metadata": {
    "execution": {
     "iopub.execute_input": "2024-09-20T12:02:58.051196Z",
     "iopub.status.busy": "2024-09-20T12:02:58.050788Z",
     "iopub.status.idle": "2024-09-20T12:02:58.057143Z",
     "shell.execute_reply": "2024-09-20T12:02:58.056019Z"
    },
    "papermill": {
     "duration": 0.021585,
     "end_time": "2024-09-20T12:02:58.059379",
     "exception": false,
     "start_time": "2024-09-20T12:02:58.037794",
     "status": "completed"
    },
    "tags": []
   },
   "outputs": [],
   "source": [
    "mean_age = df['age'].mean()\n",
    "df['age'] = df['age'].fillna(mean_age)"
   ]
  },
  {
   "cell_type": "code",
   "execution_count": 11,
   "id": "4ad67737",
   "metadata": {
    "execution": {
     "iopub.execute_input": "2024-09-20T12:02:58.087174Z",
     "iopub.status.busy": "2024-09-20T12:02:58.086011Z",
     "iopub.status.idle": "2024-09-20T12:02:58.095667Z",
     "shell.execute_reply": "2024-09-20T12:02:58.094607Z"
    },
    "papermill": {
     "duration": 0.024968,
     "end_time": "2024-09-20T12:02:58.097926",
     "exception": false,
     "start_time": "2024-09-20T12:02:58.072958",
     "status": "completed"
    },
    "tags": []
   },
   "outputs": [
    {
     "data": {
      "text/plain": [
       "survived         0\n",
       "pclass           0\n",
       "sex              0\n",
       "age              0\n",
       "sibsp            0\n",
       "parch            0\n",
       "fare             0\n",
       "embarked         2\n",
       "class            0\n",
       "who              0\n",
       "adult_male       0\n",
       "deck           688\n",
       "embark_town      2\n",
       "alive            0\n",
       "alone            0\n",
       "dtype: int64"
      ]
     },
     "execution_count": 11,
     "metadata": {},
     "output_type": "execute_result"
    }
   ],
   "source": [
    "df.isnull().sum()"
   ]
  },
  {
   "cell_type": "code",
   "execution_count": 12,
   "id": "01bc93dc",
   "metadata": {
    "execution": {
     "iopub.execute_input": "2024-09-20T12:02:58.123524Z",
     "iopub.status.busy": "2024-09-20T12:02:58.122896Z",
     "iopub.status.idle": "2024-09-20T12:02:58.140659Z",
     "shell.execute_reply": "2024-09-20T12:02:58.139522Z"
    },
    "papermill": {
     "duration": 0.032881,
     "end_time": "2024-09-20T12:02:58.142754",
     "exception": false,
     "start_time": "2024-09-20T12:02:58.109873",
     "status": "completed"
    },
    "tags": []
   },
   "outputs": [
    {
     "data": {
      "text/html": [
       "<div>\n",
       "<style scoped>\n",
       "    .dataframe tbody tr th:only-of-type {\n",
       "        vertical-align: middle;\n",
       "    }\n",
       "\n",
       "    .dataframe tbody tr th {\n",
       "        vertical-align: top;\n",
       "    }\n",
       "\n",
       "    .dataframe thead th {\n",
       "        text-align: right;\n",
       "    }\n",
       "</style>\n",
       "<table border=\"1\" class=\"dataframe\">\n",
       "  <thead>\n",
       "    <tr style=\"text-align: right;\">\n",
       "      <th></th>\n",
       "      <th>survived</th>\n",
       "      <th>pclass</th>\n",
       "      <th>sex</th>\n",
       "      <th>age</th>\n",
       "      <th>sibsp</th>\n",
       "      <th>parch</th>\n",
       "      <th>fare</th>\n",
       "      <th>embarked</th>\n",
       "      <th>class</th>\n",
       "      <th>who</th>\n",
       "      <th>adult_male</th>\n",
       "      <th>deck</th>\n",
       "      <th>embark_town</th>\n",
       "      <th>alive</th>\n",
       "      <th>alone</th>\n",
       "    </tr>\n",
       "  </thead>\n",
       "  <tbody>\n",
       "    <tr>\n",
       "      <th>0</th>\n",
       "      <td>0</td>\n",
       "      <td>3</td>\n",
       "      <td>male</td>\n",
       "      <td>22.0</td>\n",
       "      <td>1</td>\n",
       "      <td>0</td>\n",
       "      <td>7.2500</td>\n",
       "      <td>S</td>\n",
       "      <td>Third</td>\n",
       "      <td>man</td>\n",
       "      <td>True</td>\n",
       "      <td>NaN</td>\n",
       "      <td>Southampton</td>\n",
       "      <td>no</td>\n",
       "      <td>False</td>\n",
       "    </tr>\n",
       "    <tr>\n",
       "      <th>1</th>\n",
       "      <td>1</td>\n",
       "      <td>1</td>\n",
       "      <td>female</td>\n",
       "      <td>38.0</td>\n",
       "      <td>1</td>\n",
       "      <td>0</td>\n",
       "      <td>71.2833</td>\n",
       "      <td>C</td>\n",
       "      <td>First</td>\n",
       "      <td>woman</td>\n",
       "      <td>False</td>\n",
       "      <td>C</td>\n",
       "      <td>Cherbourg</td>\n",
       "      <td>yes</td>\n",
       "      <td>False</td>\n",
       "    </tr>\n",
       "    <tr>\n",
       "      <th>2</th>\n",
       "      <td>1</td>\n",
       "      <td>3</td>\n",
       "      <td>female</td>\n",
       "      <td>26.0</td>\n",
       "      <td>0</td>\n",
       "      <td>0</td>\n",
       "      <td>7.9250</td>\n",
       "      <td>S</td>\n",
       "      <td>Third</td>\n",
       "      <td>woman</td>\n",
       "      <td>False</td>\n",
       "      <td>NaN</td>\n",
       "      <td>Southampton</td>\n",
       "      <td>yes</td>\n",
       "      <td>True</td>\n",
       "    </tr>\n",
       "    <tr>\n",
       "      <th>3</th>\n",
       "      <td>1</td>\n",
       "      <td>1</td>\n",
       "      <td>female</td>\n",
       "      <td>35.0</td>\n",
       "      <td>1</td>\n",
       "      <td>0</td>\n",
       "      <td>53.1000</td>\n",
       "      <td>S</td>\n",
       "      <td>First</td>\n",
       "      <td>woman</td>\n",
       "      <td>False</td>\n",
       "      <td>C</td>\n",
       "      <td>Southampton</td>\n",
       "      <td>yes</td>\n",
       "      <td>False</td>\n",
       "    </tr>\n",
       "  </tbody>\n",
       "</table>\n",
       "</div>"
      ],
      "text/plain": [
       "   survived  pclass     sex   age  sibsp  parch     fare embarked  class  \\\n",
       "0         0       3    male  22.0      1      0   7.2500        S  Third   \n",
       "1         1       1  female  38.0      1      0  71.2833        C  First   \n",
       "2         1       3  female  26.0      0      0   7.9250        S  Third   \n",
       "3         1       1  female  35.0      1      0  53.1000        S  First   \n",
       "\n",
       "     who  adult_male deck  embark_town alive  alone  \n",
       "0    man        True  NaN  Southampton    no  False  \n",
       "1  woman       False    C    Cherbourg   yes  False  \n",
       "2  woman       False  NaN  Southampton   yes   True  \n",
       "3  woman       False    C  Southampton   yes  False  "
      ]
     },
     "execution_count": 12,
     "metadata": {},
     "output_type": "execute_result"
    }
   ],
   "source": [
    "df.head(4)"
   ]
  },
  {
   "cell_type": "code",
   "execution_count": 13,
   "id": "eb6a8665",
   "metadata": {
    "execution": {
     "iopub.execute_input": "2024-09-20T12:02:58.168770Z",
     "iopub.status.busy": "2024-09-20T12:02:58.168353Z",
     "iopub.status.idle": "2024-09-20T12:02:58.186718Z",
     "shell.execute_reply": "2024-09-20T12:02:58.185251Z"
    },
    "papermill": {
     "duration": 0.034271,
     "end_time": "2024-09-20T12:02:58.189234",
     "exception": false,
     "start_time": "2024-09-20T12:02:58.154963",
     "status": "completed"
    },
    "tags": []
   },
   "outputs": [],
   "source": [
    "df['deck'] = df['deck'].fillna(df['deck'].mode()[0]) # filling Missing deck values with the most common deck\n",
    "df['sex'] = df['sex'].map({'male': 1,'female' : 0})\n",
    "\n",
    "df = df.astype({'alone': int}) # from booltype into Int type\n",
    "df = df.astype({'adult_male': int}) # from booltype into Int type\n",
    "\n",
    "df['who'] = df['who'].map({'child': -1, 'woman':0, 'man':1}) # Encodes 'who' as numerical values.\n",
    "\n",
    "df['alive'] = df['alive'].map({'yes':1, 'no':0}) # Converts 'alive' to numerical values"
   ]
  },
  {
   "cell_type": "code",
   "execution_count": 14,
   "id": "95c8b42e",
   "metadata": {
    "execution": {
     "iopub.execute_input": "2024-09-20T12:02:58.215979Z",
     "iopub.status.busy": "2024-09-20T12:02:58.215141Z",
     "iopub.status.idle": "2024-09-20T12:02:58.232030Z",
     "shell.execute_reply": "2024-09-20T12:02:58.230752Z"
    },
    "papermill": {
     "duration": 0.032779,
     "end_time": "2024-09-20T12:02:58.234502",
     "exception": false,
     "start_time": "2024-09-20T12:02:58.201723",
     "status": "completed"
    },
    "tags": []
   },
   "outputs": [
    {
     "data": {
      "text/html": [
       "<div>\n",
       "<style scoped>\n",
       "    .dataframe tbody tr th:only-of-type {\n",
       "        vertical-align: middle;\n",
       "    }\n",
       "\n",
       "    .dataframe tbody tr th {\n",
       "        vertical-align: top;\n",
       "    }\n",
       "\n",
       "    .dataframe thead th {\n",
       "        text-align: right;\n",
       "    }\n",
       "</style>\n",
       "<table border=\"1\" class=\"dataframe\">\n",
       "  <thead>\n",
       "    <tr style=\"text-align: right;\">\n",
       "      <th></th>\n",
       "      <th>survived</th>\n",
       "      <th>pclass</th>\n",
       "      <th>sex</th>\n",
       "      <th>age</th>\n",
       "      <th>sibsp</th>\n",
       "      <th>parch</th>\n",
       "      <th>fare</th>\n",
       "      <th>embarked</th>\n",
       "      <th>class</th>\n",
       "      <th>who</th>\n",
       "      <th>adult_male</th>\n",
       "      <th>deck</th>\n",
       "      <th>embark_town</th>\n",
       "      <th>alive</th>\n",
       "      <th>alone</th>\n",
       "    </tr>\n",
       "  </thead>\n",
       "  <tbody>\n",
       "    <tr>\n",
       "      <th>0</th>\n",
       "      <td>0</td>\n",
       "      <td>3</td>\n",
       "      <td>1</td>\n",
       "      <td>22.0</td>\n",
       "      <td>1</td>\n",
       "      <td>0</td>\n",
       "      <td>7.2500</td>\n",
       "      <td>S</td>\n",
       "      <td>Third</td>\n",
       "      <td>1</td>\n",
       "      <td>1</td>\n",
       "      <td>C</td>\n",
       "      <td>Southampton</td>\n",
       "      <td>0</td>\n",
       "      <td>0</td>\n",
       "    </tr>\n",
       "    <tr>\n",
       "      <th>1</th>\n",
       "      <td>1</td>\n",
       "      <td>1</td>\n",
       "      <td>0</td>\n",
       "      <td>38.0</td>\n",
       "      <td>1</td>\n",
       "      <td>0</td>\n",
       "      <td>71.2833</td>\n",
       "      <td>C</td>\n",
       "      <td>First</td>\n",
       "      <td>0</td>\n",
       "      <td>0</td>\n",
       "      <td>C</td>\n",
       "      <td>Cherbourg</td>\n",
       "      <td>1</td>\n",
       "      <td>0</td>\n",
       "    </tr>\n",
       "    <tr>\n",
       "      <th>2</th>\n",
       "      <td>1</td>\n",
       "      <td>3</td>\n",
       "      <td>0</td>\n",
       "      <td>26.0</td>\n",
       "      <td>0</td>\n",
       "      <td>0</td>\n",
       "      <td>7.9250</td>\n",
       "      <td>S</td>\n",
       "      <td>Third</td>\n",
       "      <td>0</td>\n",
       "      <td>0</td>\n",
       "      <td>C</td>\n",
       "      <td>Southampton</td>\n",
       "      <td>1</td>\n",
       "      <td>1</td>\n",
       "    </tr>\n",
       "    <tr>\n",
       "      <th>3</th>\n",
       "      <td>1</td>\n",
       "      <td>1</td>\n",
       "      <td>0</td>\n",
       "      <td>35.0</td>\n",
       "      <td>1</td>\n",
       "      <td>0</td>\n",
       "      <td>53.1000</td>\n",
       "      <td>S</td>\n",
       "      <td>First</td>\n",
       "      <td>0</td>\n",
       "      <td>0</td>\n",
       "      <td>C</td>\n",
       "      <td>Southampton</td>\n",
       "      <td>1</td>\n",
       "      <td>0</td>\n",
       "    </tr>\n",
       "    <tr>\n",
       "      <th>4</th>\n",
       "      <td>0</td>\n",
       "      <td>3</td>\n",
       "      <td>1</td>\n",
       "      <td>35.0</td>\n",
       "      <td>0</td>\n",
       "      <td>0</td>\n",
       "      <td>8.0500</td>\n",
       "      <td>S</td>\n",
       "      <td>Third</td>\n",
       "      <td>1</td>\n",
       "      <td>1</td>\n",
       "      <td>C</td>\n",
       "      <td>Southampton</td>\n",
       "      <td>0</td>\n",
       "      <td>1</td>\n",
       "    </tr>\n",
       "  </tbody>\n",
       "</table>\n",
       "</div>"
      ],
      "text/plain": [
       "   survived  pclass  sex   age  sibsp  parch     fare embarked  class  who  \\\n",
       "0         0       3    1  22.0      1      0   7.2500        S  Third    1   \n",
       "1         1       1    0  38.0      1      0  71.2833        C  First    0   \n",
       "2         1       3    0  26.0      0      0   7.9250        S  Third    0   \n",
       "3         1       1    0  35.0      1      0  53.1000        S  First    0   \n",
       "4         0       3    1  35.0      0      0   8.0500        S  Third    1   \n",
       "\n",
       "   adult_male deck  embark_town  alive  alone  \n",
       "0           1    C  Southampton      0      0  \n",
       "1           0    C    Cherbourg      1      0  \n",
       "2           0    C  Southampton      1      1  \n",
       "3           0    C  Southampton      1      0  \n",
       "4           1    C  Southampton      0      1  "
      ]
     },
     "execution_count": 14,
     "metadata": {},
     "output_type": "execute_result"
    }
   ],
   "source": [
    "df.head(5)"
   ]
  },
  {
   "cell_type": "code",
   "execution_count": 15,
   "id": "faa5f4f5",
   "metadata": {
    "execution": {
     "iopub.execute_input": "2024-09-20T12:02:58.261388Z",
     "iopub.status.busy": "2024-09-20T12:02:58.260994Z",
     "iopub.status.idle": "2024-09-20T12:02:58.270785Z",
     "shell.execute_reply": "2024-09-20T12:02:58.269611Z"
    },
    "papermill": {
     "duration": 0.0261,
     "end_time": "2024-09-20T12:02:58.273128",
     "exception": false,
     "start_time": "2024-09-20T12:02:58.247028",
     "status": "completed"
    },
    "tags": []
   },
   "outputs": [
    {
     "data": {
      "text/plain": [
       "survived       0\n",
       "pclass         0\n",
       "sex            0\n",
       "age            0\n",
       "sibsp          0\n",
       "parch          0\n",
       "fare           0\n",
       "embarked       2\n",
       "class          0\n",
       "who            0\n",
       "adult_male     0\n",
       "deck           0\n",
       "embark_town    2\n",
       "alive          0\n",
       "alone          0\n",
       "dtype: int64"
      ]
     },
     "execution_count": 15,
     "metadata": {},
     "output_type": "execute_result"
    }
   ],
   "source": [
    "df.isnull().sum()"
   ]
  },
  {
   "cell_type": "code",
   "execution_count": 16,
   "id": "c0bd3a7f",
   "metadata": {
    "execution": {
     "iopub.execute_input": "2024-09-20T12:02:58.301306Z",
     "iopub.status.busy": "2024-09-20T12:02:58.300895Z",
     "iopub.status.idle": "2024-09-20T12:02:58.308760Z",
     "shell.execute_reply": "2024-09-20T12:02:58.307741Z"
    },
    "papermill": {
     "duration": 0.024863,
     "end_time": "2024-09-20T12:02:58.311079",
     "exception": false,
     "start_time": "2024-09-20T12:02:58.286216",
     "status": "completed"
    },
    "tags": []
   },
   "outputs": [],
   "source": [
    "df['embarked'] = df['embarked'].fillna(df['embarked'].mode()[0])\n",
    "df['embark_town'] = df['embark_town'].fillna(df['embark_town'].mode()[0])"
   ]
  },
  {
   "cell_type": "markdown",
   "id": "d8f39971",
   "metadata": {
    "papermill": {
     "duration": 0.012096,
     "end_time": "2024-09-20T12:02:58.335729",
     "exception": false,
     "start_time": "2024-09-20T12:02:58.323633",
     "status": "completed"
    },
    "tags": []
   },
   "source": [
    "# **In The Above Code**\n",
    "\n",
    "These lines of code **replaces missing values** in the **embarked and embark_town column** with the **most common (mode) value** among non-missing entries."
   ]
  },
  {
   "cell_type": "code",
   "execution_count": 17,
   "id": "f0045f9c",
   "metadata": {
    "execution": {
     "iopub.execute_input": "2024-09-20T12:02:58.362539Z",
     "iopub.status.busy": "2024-09-20T12:02:58.362110Z",
     "iopub.status.idle": "2024-09-20T12:02:58.372156Z",
     "shell.execute_reply": "2024-09-20T12:02:58.371065Z"
    },
    "papermill": {
     "duration": 0.026124,
     "end_time": "2024-09-20T12:02:58.374399",
     "exception": false,
     "start_time": "2024-09-20T12:02:58.348275",
     "status": "completed"
    },
    "tags": []
   },
   "outputs": [
    {
     "data": {
      "text/plain": [
       "survived       0\n",
       "pclass         0\n",
       "sex            0\n",
       "age            0\n",
       "sibsp          0\n",
       "parch          0\n",
       "fare           0\n",
       "embarked       0\n",
       "class          0\n",
       "who            0\n",
       "adult_male     0\n",
       "deck           0\n",
       "embark_town    0\n",
       "alive          0\n",
       "alone          0\n",
       "dtype: int64"
      ]
     },
     "execution_count": 17,
     "metadata": {},
     "output_type": "execute_result"
    }
   ],
   "source": [
    "df.isnull().sum()"
   ]
  },
  {
   "cell_type": "code",
   "execution_count": 18,
   "id": "4408b6b8",
   "metadata": {
    "execution": {
     "iopub.execute_input": "2024-09-20T12:02:58.401214Z",
     "iopub.status.busy": "2024-09-20T12:02:58.400784Z",
     "iopub.status.idle": "2024-09-20T12:02:58.419178Z",
     "shell.execute_reply": "2024-09-20T12:02:58.417932Z"
    },
    "papermill": {
     "duration": 0.034531,
     "end_time": "2024-09-20T12:02:58.421544",
     "exception": false,
     "start_time": "2024-09-20T12:02:58.387013",
     "status": "completed"
    },
    "tags": []
   },
   "outputs": [
    {
     "data": {
      "text/html": [
       "<div>\n",
       "<style scoped>\n",
       "    .dataframe tbody tr th:only-of-type {\n",
       "        vertical-align: middle;\n",
       "    }\n",
       "\n",
       "    .dataframe tbody tr th {\n",
       "        vertical-align: top;\n",
       "    }\n",
       "\n",
       "    .dataframe thead th {\n",
       "        text-align: right;\n",
       "    }\n",
       "</style>\n",
       "<table border=\"1\" class=\"dataframe\">\n",
       "  <thead>\n",
       "    <tr style=\"text-align: right;\">\n",
       "      <th></th>\n",
       "      <th>survived</th>\n",
       "      <th>pclass</th>\n",
       "      <th>sex</th>\n",
       "      <th>age</th>\n",
       "      <th>sibsp</th>\n",
       "      <th>parch</th>\n",
       "      <th>fare</th>\n",
       "      <th>embarked</th>\n",
       "      <th>class</th>\n",
       "      <th>who</th>\n",
       "      <th>adult_male</th>\n",
       "      <th>deck</th>\n",
       "      <th>embark_town</th>\n",
       "      <th>alive</th>\n",
       "      <th>alone</th>\n",
       "    </tr>\n",
       "  </thead>\n",
       "  <tbody>\n",
       "    <tr>\n",
       "      <th>0</th>\n",
       "      <td>0</td>\n",
       "      <td>3</td>\n",
       "      <td>1</td>\n",
       "      <td>22.000000</td>\n",
       "      <td>1</td>\n",
       "      <td>0</td>\n",
       "      <td>7.2500</td>\n",
       "      <td>S</td>\n",
       "      <td>Third</td>\n",
       "      <td>1</td>\n",
       "      <td>1</td>\n",
       "      <td>C</td>\n",
       "      <td>Southampton</td>\n",
       "      <td>0</td>\n",
       "      <td>0</td>\n",
       "    </tr>\n",
       "    <tr>\n",
       "      <th>1</th>\n",
       "      <td>1</td>\n",
       "      <td>1</td>\n",
       "      <td>0</td>\n",
       "      <td>38.000000</td>\n",
       "      <td>1</td>\n",
       "      <td>0</td>\n",
       "      <td>71.2833</td>\n",
       "      <td>C</td>\n",
       "      <td>First</td>\n",
       "      <td>0</td>\n",
       "      <td>0</td>\n",
       "      <td>C</td>\n",
       "      <td>Cherbourg</td>\n",
       "      <td>1</td>\n",
       "      <td>0</td>\n",
       "    </tr>\n",
       "    <tr>\n",
       "      <th>2</th>\n",
       "      <td>1</td>\n",
       "      <td>3</td>\n",
       "      <td>0</td>\n",
       "      <td>26.000000</td>\n",
       "      <td>0</td>\n",
       "      <td>0</td>\n",
       "      <td>7.9250</td>\n",
       "      <td>S</td>\n",
       "      <td>Third</td>\n",
       "      <td>0</td>\n",
       "      <td>0</td>\n",
       "      <td>C</td>\n",
       "      <td>Southampton</td>\n",
       "      <td>1</td>\n",
       "      <td>1</td>\n",
       "    </tr>\n",
       "    <tr>\n",
       "      <th>3</th>\n",
       "      <td>1</td>\n",
       "      <td>1</td>\n",
       "      <td>0</td>\n",
       "      <td>35.000000</td>\n",
       "      <td>1</td>\n",
       "      <td>0</td>\n",
       "      <td>53.1000</td>\n",
       "      <td>S</td>\n",
       "      <td>First</td>\n",
       "      <td>0</td>\n",
       "      <td>0</td>\n",
       "      <td>C</td>\n",
       "      <td>Southampton</td>\n",
       "      <td>1</td>\n",
       "      <td>0</td>\n",
       "    </tr>\n",
       "    <tr>\n",
       "      <th>4</th>\n",
       "      <td>0</td>\n",
       "      <td>3</td>\n",
       "      <td>1</td>\n",
       "      <td>35.000000</td>\n",
       "      <td>0</td>\n",
       "      <td>0</td>\n",
       "      <td>8.0500</td>\n",
       "      <td>S</td>\n",
       "      <td>Third</td>\n",
       "      <td>1</td>\n",
       "      <td>1</td>\n",
       "      <td>C</td>\n",
       "      <td>Southampton</td>\n",
       "      <td>0</td>\n",
       "      <td>1</td>\n",
       "    </tr>\n",
       "    <tr>\n",
       "      <th>5</th>\n",
       "      <td>0</td>\n",
       "      <td>3</td>\n",
       "      <td>1</td>\n",
       "      <td>29.699118</td>\n",
       "      <td>0</td>\n",
       "      <td>0</td>\n",
       "      <td>8.4583</td>\n",
       "      <td>Q</td>\n",
       "      <td>Third</td>\n",
       "      <td>1</td>\n",
       "      <td>1</td>\n",
       "      <td>C</td>\n",
       "      <td>Queenstown</td>\n",
       "      <td>0</td>\n",
       "      <td>1</td>\n",
       "    </tr>\n",
       "    <tr>\n",
       "      <th>6</th>\n",
       "      <td>0</td>\n",
       "      <td>1</td>\n",
       "      <td>1</td>\n",
       "      <td>54.000000</td>\n",
       "      <td>0</td>\n",
       "      <td>0</td>\n",
       "      <td>51.8625</td>\n",
       "      <td>S</td>\n",
       "      <td>First</td>\n",
       "      <td>1</td>\n",
       "      <td>1</td>\n",
       "      <td>E</td>\n",
       "      <td>Southampton</td>\n",
       "      <td>0</td>\n",
       "      <td>1</td>\n",
       "    </tr>\n",
       "    <tr>\n",
       "      <th>7</th>\n",
       "      <td>0</td>\n",
       "      <td>3</td>\n",
       "      <td>1</td>\n",
       "      <td>2.000000</td>\n",
       "      <td>3</td>\n",
       "      <td>1</td>\n",
       "      <td>21.0750</td>\n",
       "      <td>S</td>\n",
       "      <td>Third</td>\n",
       "      <td>-1</td>\n",
       "      <td>0</td>\n",
       "      <td>C</td>\n",
       "      <td>Southampton</td>\n",
       "      <td>0</td>\n",
       "      <td>0</td>\n",
       "    </tr>\n",
       "    <tr>\n",
       "      <th>8</th>\n",
       "      <td>1</td>\n",
       "      <td>3</td>\n",
       "      <td>0</td>\n",
       "      <td>27.000000</td>\n",
       "      <td>0</td>\n",
       "      <td>2</td>\n",
       "      <td>11.1333</td>\n",
       "      <td>S</td>\n",
       "      <td>Third</td>\n",
       "      <td>0</td>\n",
       "      <td>0</td>\n",
       "      <td>C</td>\n",
       "      <td>Southampton</td>\n",
       "      <td>1</td>\n",
       "      <td>0</td>\n",
       "    </tr>\n",
       "    <tr>\n",
       "      <th>9</th>\n",
       "      <td>1</td>\n",
       "      <td>2</td>\n",
       "      <td>0</td>\n",
       "      <td>14.000000</td>\n",
       "      <td>1</td>\n",
       "      <td>0</td>\n",
       "      <td>30.0708</td>\n",
       "      <td>C</td>\n",
       "      <td>Second</td>\n",
       "      <td>-1</td>\n",
       "      <td>0</td>\n",
       "      <td>C</td>\n",
       "      <td>Cherbourg</td>\n",
       "      <td>1</td>\n",
       "      <td>0</td>\n",
       "    </tr>\n",
       "  </tbody>\n",
       "</table>\n",
       "</div>"
      ],
      "text/plain": [
       "   survived  pclass  sex        age  sibsp  parch     fare embarked   class  \\\n",
       "0         0       3    1  22.000000      1      0   7.2500        S   Third   \n",
       "1         1       1    0  38.000000      1      0  71.2833        C   First   \n",
       "2         1       3    0  26.000000      0      0   7.9250        S   Third   \n",
       "3         1       1    0  35.000000      1      0  53.1000        S   First   \n",
       "4         0       3    1  35.000000      0      0   8.0500        S   Third   \n",
       "5         0       3    1  29.699118      0      0   8.4583        Q   Third   \n",
       "6         0       1    1  54.000000      0      0  51.8625        S   First   \n",
       "7         0       3    1   2.000000      3      1  21.0750        S   Third   \n",
       "8         1       3    0  27.000000      0      2  11.1333        S   Third   \n",
       "9         1       2    0  14.000000      1      0  30.0708        C  Second   \n",
       "\n",
       "   who  adult_male deck  embark_town  alive  alone  \n",
       "0    1           1    C  Southampton      0      0  \n",
       "1    0           0    C    Cherbourg      1      0  \n",
       "2    0           0    C  Southampton      1      1  \n",
       "3    0           0    C  Southampton      1      0  \n",
       "4    1           1    C  Southampton      0      1  \n",
       "5    1           1    C   Queenstown      0      1  \n",
       "6    1           1    E  Southampton      0      1  \n",
       "7   -1           0    C  Southampton      0      0  \n",
       "8    0           0    C  Southampton      1      0  \n",
       "9   -1           0    C    Cherbourg      1      0  "
      ]
     },
     "execution_count": 18,
     "metadata": {},
     "output_type": "execute_result"
    }
   ],
   "source": [
    "df.head(10)"
   ]
  },
  {
   "cell_type": "markdown",
   "id": "3f639e8c",
   "metadata": {
    "papermill": {
     "duration": 0.01278,
     "end_time": "2024-09-20T12:02:58.447500",
     "exception": false,
     "start_time": "2024-09-20T12:02:58.434720",
     "status": "completed"
    },
    "tags": []
   },
   "source": [
    "# **Removing Unnecessary Columns**\n",
    "\n",
    "By **removing these Columns**, we can potentially simplify the model and improve its efficiency."
   ]
  },
  {
   "cell_type": "code",
   "execution_count": 19,
   "id": "2b896929",
   "metadata": {
    "execution": {
     "iopub.execute_input": "2024-09-20T12:02:58.475098Z",
     "iopub.status.busy": "2024-09-20T12:02:58.474686Z",
     "iopub.status.idle": "2024-09-20T12:02:58.482795Z",
     "shell.execute_reply": "2024-09-20T12:02:58.481735Z"
    },
    "papermill": {
     "duration": 0.024859,
     "end_time": "2024-09-20T12:02:58.485160",
     "exception": false,
     "start_time": "2024-09-20T12:02:58.460301",
     "status": "completed"
    },
    "tags": []
   },
   "outputs": [],
   "source": [
    "df.drop(['who', 'deck', 'embark_town', 'alive'], axis = 1, inplace = True)\n"
   ]
  },
  {
   "cell_type": "code",
   "execution_count": 20,
   "id": "bd36f173",
   "metadata": {
    "execution": {
     "iopub.execute_input": "2024-09-20T12:02:58.513026Z",
     "iopub.status.busy": "2024-09-20T12:02:58.512541Z",
     "iopub.status.idle": "2024-09-20T12:02:58.531514Z",
     "shell.execute_reply": "2024-09-20T12:02:58.530246Z"
    },
    "papermill": {
     "duration": 0.035431,
     "end_time": "2024-09-20T12:02:58.533679",
     "exception": false,
     "start_time": "2024-09-20T12:02:58.498248",
     "status": "completed"
    },
    "tags": []
   },
   "outputs": [
    {
     "data": {
      "text/html": [
       "<div>\n",
       "<style scoped>\n",
       "    .dataframe tbody tr th:only-of-type {\n",
       "        vertical-align: middle;\n",
       "    }\n",
       "\n",
       "    .dataframe tbody tr th {\n",
       "        vertical-align: top;\n",
       "    }\n",
       "\n",
       "    .dataframe thead th {\n",
       "        text-align: right;\n",
       "    }\n",
       "</style>\n",
       "<table border=\"1\" class=\"dataframe\">\n",
       "  <thead>\n",
       "    <tr style=\"text-align: right;\">\n",
       "      <th></th>\n",
       "      <th>survived</th>\n",
       "      <th>pclass</th>\n",
       "      <th>sex</th>\n",
       "      <th>age</th>\n",
       "      <th>sibsp</th>\n",
       "      <th>parch</th>\n",
       "      <th>fare</th>\n",
       "      <th>embarked</th>\n",
       "      <th>class</th>\n",
       "      <th>adult_male</th>\n",
       "      <th>alone</th>\n",
       "    </tr>\n",
       "  </thead>\n",
       "  <tbody>\n",
       "    <tr>\n",
       "      <th>0</th>\n",
       "      <td>0</td>\n",
       "      <td>3</td>\n",
       "      <td>1</td>\n",
       "      <td>22.000000</td>\n",
       "      <td>1</td>\n",
       "      <td>0</td>\n",
       "      <td>7.2500</td>\n",
       "      <td>S</td>\n",
       "      <td>Third</td>\n",
       "      <td>1</td>\n",
       "      <td>0</td>\n",
       "    </tr>\n",
       "    <tr>\n",
       "      <th>1</th>\n",
       "      <td>1</td>\n",
       "      <td>1</td>\n",
       "      <td>0</td>\n",
       "      <td>38.000000</td>\n",
       "      <td>1</td>\n",
       "      <td>0</td>\n",
       "      <td>71.2833</td>\n",
       "      <td>C</td>\n",
       "      <td>First</td>\n",
       "      <td>0</td>\n",
       "      <td>0</td>\n",
       "    </tr>\n",
       "    <tr>\n",
       "      <th>2</th>\n",
       "      <td>1</td>\n",
       "      <td>3</td>\n",
       "      <td>0</td>\n",
       "      <td>26.000000</td>\n",
       "      <td>0</td>\n",
       "      <td>0</td>\n",
       "      <td>7.9250</td>\n",
       "      <td>S</td>\n",
       "      <td>Third</td>\n",
       "      <td>0</td>\n",
       "      <td>1</td>\n",
       "    </tr>\n",
       "    <tr>\n",
       "      <th>3</th>\n",
       "      <td>1</td>\n",
       "      <td>1</td>\n",
       "      <td>0</td>\n",
       "      <td>35.000000</td>\n",
       "      <td>1</td>\n",
       "      <td>0</td>\n",
       "      <td>53.1000</td>\n",
       "      <td>S</td>\n",
       "      <td>First</td>\n",
       "      <td>0</td>\n",
       "      <td>0</td>\n",
       "    </tr>\n",
       "    <tr>\n",
       "      <th>4</th>\n",
       "      <td>0</td>\n",
       "      <td>3</td>\n",
       "      <td>1</td>\n",
       "      <td>35.000000</td>\n",
       "      <td>0</td>\n",
       "      <td>0</td>\n",
       "      <td>8.0500</td>\n",
       "      <td>S</td>\n",
       "      <td>Third</td>\n",
       "      <td>1</td>\n",
       "      <td>1</td>\n",
       "    </tr>\n",
       "    <tr>\n",
       "      <th>5</th>\n",
       "      <td>0</td>\n",
       "      <td>3</td>\n",
       "      <td>1</td>\n",
       "      <td>29.699118</td>\n",
       "      <td>0</td>\n",
       "      <td>0</td>\n",
       "      <td>8.4583</td>\n",
       "      <td>Q</td>\n",
       "      <td>Third</td>\n",
       "      <td>1</td>\n",
       "      <td>1</td>\n",
       "    </tr>\n",
       "    <tr>\n",
       "      <th>6</th>\n",
       "      <td>0</td>\n",
       "      <td>1</td>\n",
       "      <td>1</td>\n",
       "      <td>54.000000</td>\n",
       "      <td>0</td>\n",
       "      <td>0</td>\n",
       "      <td>51.8625</td>\n",
       "      <td>S</td>\n",
       "      <td>First</td>\n",
       "      <td>1</td>\n",
       "      <td>1</td>\n",
       "    </tr>\n",
       "    <tr>\n",
       "      <th>7</th>\n",
       "      <td>0</td>\n",
       "      <td>3</td>\n",
       "      <td>1</td>\n",
       "      <td>2.000000</td>\n",
       "      <td>3</td>\n",
       "      <td>1</td>\n",
       "      <td>21.0750</td>\n",
       "      <td>S</td>\n",
       "      <td>Third</td>\n",
       "      <td>0</td>\n",
       "      <td>0</td>\n",
       "    </tr>\n",
       "    <tr>\n",
       "      <th>8</th>\n",
       "      <td>1</td>\n",
       "      <td>3</td>\n",
       "      <td>0</td>\n",
       "      <td>27.000000</td>\n",
       "      <td>0</td>\n",
       "      <td>2</td>\n",
       "      <td>11.1333</td>\n",
       "      <td>S</td>\n",
       "      <td>Third</td>\n",
       "      <td>0</td>\n",
       "      <td>0</td>\n",
       "    </tr>\n",
       "    <tr>\n",
       "      <th>9</th>\n",
       "      <td>1</td>\n",
       "      <td>2</td>\n",
       "      <td>0</td>\n",
       "      <td>14.000000</td>\n",
       "      <td>1</td>\n",
       "      <td>0</td>\n",
       "      <td>30.0708</td>\n",
       "      <td>C</td>\n",
       "      <td>Second</td>\n",
       "      <td>0</td>\n",
       "      <td>0</td>\n",
       "    </tr>\n",
       "    <tr>\n",
       "      <th>10</th>\n",
       "      <td>1</td>\n",
       "      <td>3</td>\n",
       "      <td>0</td>\n",
       "      <td>4.000000</td>\n",
       "      <td>1</td>\n",
       "      <td>1</td>\n",
       "      <td>16.7000</td>\n",
       "      <td>S</td>\n",
       "      <td>Third</td>\n",
       "      <td>0</td>\n",
       "      <td>0</td>\n",
       "    </tr>\n",
       "    <tr>\n",
       "      <th>11</th>\n",
       "      <td>1</td>\n",
       "      <td>1</td>\n",
       "      <td>0</td>\n",
       "      <td>58.000000</td>\n",
       "      <td>0</td>\n",
       "      <td>0</td>\n",
       "      <td>26.5500</td>\n",
       "      <td>S</td>\n",
       "      <td>First</td>\n",
       "      <td>0</td>\n",
       "      <td>1</td>\n",
       "    </tr>\n",
       "    <tr>\n",
       "      <th>12</th>\n",
       "      <td>0</td>\n",
       "      <td>3</td>\n",
       "      <td>1</td>\n",
       "      <td>20.000000</td>\n",
       "      <td>0</td>\n",
       "      <td>0</td>\n",
       "      <td>8.0500</td>\n",
       "      <td>S</td>\n",
       "      <td>Third</td>\n",
       "      <td>1</td>\n",
       "      <td>1</td>\n",
       "    </tr>\n",
       "    <tr>\n",
       "      <th>13</th>\n",
       "      <td>0</td>\n",
       "      <td>3</td>\n",
       "      <td>1</td>\n",
       "      <td>39.000000</td>\n",
       "      <td>1</td>\n",
       "      <td>5</td>\n",
       "      <td>31.2750</td>\n",
       "      <td>S</td>\n",
       "      <td>Third</td>\n",
       "      <td>1</td>\n",
       "      <td>0</td>\n",
       "    </tr>\n",
       "    <tr>\n",
       "      <th>14</th>\n",
       "      <td>0</td>\n",
       "      <td>3</td>\n",
       "      <td>0</td>\n",
       "      <td>14.000000</td>\n",
       "      <td>0</td>\n",
       "      <td>0</td>\n",
       "      <td>7.8542</td>\n",
       "      <td>S</td>\n",
       "      <td>Third</td>\n",
       "      <td>0</td>\n",
       "      <td>1</td>\n",
       "    </tr>\n",
       "    <tr>\n",
       "      <th>15</th>\n",
       "      <td>1</td>\n",
       "      <td>2</td>\n",
       "      <td>0</td>\n",
       "      <td>55.000000</td>\n",
       "      <td>0</td>\n",
       "      <td>0</td>\n",
       "      <td>16.0000</td>\n",
       "      <td>S</td>\n",
       "      <td>Second</td>\n",
       "      <td>0</td>\n",
       "      <td>1</td>\n",
       "    </tr>\n",
       "    <tr>\n",
       "      <th>16</th>\n",
       "      <td>0</td>\n",
       "      <td>3</td>\n",
       "      <td>1</td>\n",
       "      <td>2.000000</td>\n",
       "      <td>4</td>\n",
       "      <td>1</td>\n",
       "      <td>29.1250</td>\n",
       "      <td>Q</td>\n",
       "      <td>Third</td>\n",
       "      <td>0</td>\n",
       "      <td>0</td>\n",
       "    </tr>\n",
       "    <tr>\n",
       "      <th>17</th>\n",
       "      <td>1</td>\n",
       "      <td>2</td>\n",
       "      <td>1</td>\n",
       "      <td>29.699118</td>\n",
       "      <td>0</td>\n",
       "      <td>0</td>\n",
       "      <td>13.0000</td>\n",
       "      <td>S</td>\n",
       "      <td>Second</td>\n",
       "      <td>1</td>\n",
       "      <td>1</td>\n",
       "    </tr>\n",
       "    <tr>\n",
       "      <th>18</th>\n",
       "      <td>0</td>\n",
       "      <td>3</td>\n",
       "      <td>0</td>\n",
       "      <td>31.000000</td>\n",
       "      <td>1</td>\n",
       "      <td>0</td>\n",
       "      <td>18.0000</td>\n",
       "      <td>S</td>\n",
       "      <td>Third</td>\n",
       "      <td>0</td>\n",
       "      <td>0</td>\n",
       "    </tr>\n",
       "    <tr>\n",
       "      <th>19</th>\n",
       "      <td>1</td>\n",
       "      <td>3</td>\n",
       "      <td>0</td>\n",
       "      <td>29.699118</td>\n",
       "      <td>0</td>\n",
       "      <td>0</td>\n",
       "      <td>7.2250</td>\n",
       "      <td>C</td>\n",
       "      <td>Third</td>\n",
       "      <td>0</td>\n",
       "      <td>1</td>\n",
       "    </tr>\n",
       "  </tbody>\n",
       "</table>\n",
       "</div>"
      ],
      "text/plain": [
       "    survived  pclass  sex        age  sibsp  parch     fare embarked   class  \\\n",
       "0          0       3    1  22.000000      1      0   7.2500        S   Third   \n",
       "1          1       1    0  38.000000      1      0  71.2833        C   First   \n",
       "2          1       3    0  26.000000      0      0   7.9250        S   Third   \n",
       "3          1       1    0  35.000000      1      0  53.1000        S   First   \n",
       "4          0       3    1  35.000000      0      0   8.0500        S   Third   \n",
       "5          0       3    1  29.699118      0      0   8.4583        Q   Third   \n",
       "6          0       1    1  54.000000      0      0  51.8625        S   First   \n",
       "7          0       3    1   2.000000      3      1  21.0750        S   Third   \n",
       "8          1       3    0  27.000000      0      2  11.1333        S   Third   \n",
       "9          1       2    0  14.000000      1      0  30.0708        C  Second   \n",
       "10         1       3    0   4.000000      1      1  16.7000        S   Third   \n",
       "11         1       1    0  58.000000      0      0  26.5500        S   First   \n",
       "12         0       3    1  20.000000      0      0   8.0500        S   Third   \n",
       "13         0       3    1  39.000000      1      5  31.2750        S   Third   \n",
       "14         0       3    0  14.000000      0      0   7.8542        S   Third   \n",
       "15         1       2    0  55.000000      0      0  16.0000        S  Second   \n",
       "16         0       3    1   2.000000      4      1  29.1250        Q   Third   \n",
       "17         1       2    1  29.699118      0      0  13.0000        S  Second   \n",
       "18         0       3    0  31.000000      1      0  18.0000        S   Third   \n",
       "19         1       3    0  29.699118      0      0   7.2250        C   Third   \n",
       "\n",
       "    adult_male  alone  \n",
       "0            1      0  \n",
       "1            0      0  \n",
       "2            0      1  \n",
       "3            0      0  \n",
       "4            1      1  \n",
       "5            1      1  \n",
       "6            1      1  \n",
       "7            0      0  \n",
       "8            0      0  \n",
       "9            0      0  \n",
       "10           0      0  \n",
       "11           0      1  \n",
       "12           1      1  \n",
       "13           1      0  \n",
       "14           0      1  \n",
       "15           0      1  \n",
       "16           0      0  \n",
       "17           1      1  \n",
       "18           0      0  \n",
       "19           0      1  "
      ]
     },
     "execution_count": 20,
     "metadata": {},
     "output_type": "execute_result"
    }
   ],
   "source": [
    "df.head(20)"
   ]
  },
  {
   "cell_type": "code",
   "execution_count": 21,
   "id": "db86dce2",
   "metadata": {
    "execution": {
     "iopub.execute_input": "2024-09-20T12:02:58.562340Z",
     "iopub.status.busy": "2024-09-20T12:02:58.561953Z",
     "iopub.status.idle": "2024-09-20T12:02:58.571238Z",
     "shell.execute_reply": "2024-09-20T12:02:58.570208Z"
    },
    "papermill": {
     "duration": 0.026104,
     "end_time": "2024-09-20T12:02:58.573345",
     "exception": false,
     "start_time": "2024-09-20T12:02:58.547241",
     "status": "completed"
    },
    "tags": []
   },
   "outputs": [
    {
     "data": {
      "text/plain": [
       "survived      0\n",
       "pclass        0\n",
       "sex           0\n",
       "age           0\n",
       "sibsp         0\n",
       "parch         0\n",
       "fare          0\n",
       "embarked      0\n",
       "class         0\n",
       "adult_male    0\n",
       "alone         0\n",
       "dtype: int64"
      ]
     },
     "execution_count": 21,
     "metadata": {},
     "output_type": "execute_result"
    }
   ],
   "source": [
    "df.isnull().sum()"
   ]
  },
  {
   "cell_type": "markdown",
   "id": "b9636d20",
   "metadata": {
    "papermill": {
     "duration": 0.013517,
     "end_time": "2024-09-20T12:02:58.600417",
     "exception": false,
     "start_time": "2024-09-20T12:02:58.586900",
     "status": "completed"
    },
    "tags": []
   },
   "source": [
    "# **One-Hot Encoding  | Categorical Variables**\n",
    "\n",
    "**The Down code** converts the categorical columns **class and embarked** into **Numerical representations using one-hot encoding**"
   ]
  },
  {
   "cell_type": "code",
   "execution_count": 22,
   "id": "4ff1cb6f",
   "metadata": {
    "execution": {
     "iopub.execute_input": "2024-09-20T12:02:58.629882Z",
     "iopub.status.busy": "2024-09-20T12:02:58.629437Z",
     "iopub.status.idle": "2024-09-20T12:02:58.640961Z",
     "shell.execute_reply": "2024-09-20T12:02:58.639849Z"
    },
    "papermill": {
     "duration": 0.029549,
     "end_time": "2024-09-20T12:02:58.643652",
     "exception": false,
     "start_time": "2024-09-20T12:02:58.614103",
     "status": "completed"
    },
    "tags": []
   },
   "outputs": [],
   "source": [
    "df = pd.get_dummies(df, columns = ['class', 'embarked'])"
   ]
  },
  {
   "cell_type": "code",
   "execution_count": 23,
   "id": "e71a95c7",
   "metadata": {
    "execution": {
     "iopub.execute_input": "2024-09-20T12:02:58.673302Z",
     "iopub.status.busy": "2024-09-20T12:02:58.672850Z",
     "iopub.status.idle": "2024-09-20T12:02:58.691131Z",
     "shell.execute_reply": "2024-09-20T12:02:58.689943Z"
    },
    "papermill": {
     "duration": 0.03629,
     "end_time": "2024-09-20T12:02:58.693608",
     "exception": false,
     "start_time": "2024-09-20T12:02:58.657318",
     "status": "completed"
    },
    "tags": []
   },
   "outputs": [
    {
     "data": {
      "text/html": [
       "<div>\n",
       "<style scoped>\n",
       "    .dataframe tbody tr th:only-of-type {\n",
       "        vertical-align: middle;\n",
       "    }\n",
       "\n",
       "    .dataframe tbody tr th {\n",
       "        vertical-align: top;\n",
       "    }\n",
       "\n",
       "    .dataframe thead th {\n",
       "        text-align: right;\n",
       "    }\n",
       "</style>\n",
       "<table border=\"1\" class=\"dataframe\">\n",
       "  <thead>\n",
       "    <tr style=\"text-align: right;\">\n",
       "      <th></th>\n",
       "      <th>survived</th>\n",
       "      <th>pclass</th>\n",
       "      <th>sex</th>\n",
       "      <th>age</th>\n",
       "      <th>sibsp</th>\n",
       "      <th>parch</th>\n",
       "      <th>fare</th>\n",
       "      <th>adult_male</th>\n",
       "      <th>alone</th>\n",
       "      <th>class_First</th>\n",
       "      <th>class_Second</th>\n",
       "      <th>class_Third</th>\n",
       "      <th>embarked_C</th>\n",
       "      <th>embarked_Q</th>\n",
       "      <th>embarked_S</th>\n",
       "    </tr>\n",
       "  </thead>\n",
       "  <tbody>\n",
       "    <tr>\n",
       "      <th>0</th>\n",
       "      <td>0</td>\n",
       "      <td>3</td>\n",
       "      <td>1</td>\n",
       "      <td>22.0</td>\n",
       "      <td>1</td>\n",
       "      <td>0</td>\n",
       "      <td>7.2500</td>\n",
       "      <td>1</td>\n",
       "      <td>0</td>\n",
       "      <td>False</td>\n",
       "      <td>False</td>\n",
       "      <td>True</td>\n",
       "      <td>False</td>\n",
       "      <td>False</td>\n",
       "      <td>True</td>\n",
       "    </tr>\n",
       "    <tr>\n",
       "      <th>1</th>\n",
       "      <td>1</td>\n",
       "      <td>1</td>\n",
       "      <td>0</td>\n",
       "      <td>38.0</td>\n",
       "      <td>1</td>\n",
       "      <td>0</td>\n",
       "      <td>71.2833</td>\n",
       "      <td>0</td>\n",
       "      <td>0</td>\n",
       "      <td>True</td>\n",
       "      <td>False</td>\n",
       "      <td>False</td>\n",
       "      <td>True</td>\n",
       "      <td>False</td>\n",
       "      <td>False</td>\n",
       "    </tr>\n",
       "    <tr>\n",
       "      <th>2</th>\n",
       "      <td>1</td>\n",
       "      <td>3</td>\n",
       "      <td>0</td>\n",
       "      <td>26.0</td>\n",
       "      <td>0</td>\n",
       "      <td>0</td>\n",
       "      <td>7.9250</td>\n",
       "      <td>0</td>\n",
       "      <td>1</td>\n",
       "      <td>False</td>\n",
       "      <td>False</td>\n",
       "      <td>True</td>\n",
       "      <td>False</td>\n",
       "      <td>False</td>\n",
       "      <td>True</td>\n",
       "    </tr>\n",
       "    <tr>\n",
       "      <th>3</th>\n",
       "      <td>1</td>\n",
       "      <td>1</td>\n",
       "      <td>0</td>\n",
       "      <td>35.0</td>\n",
       "      <td>1</td>\n",
       "      <td>0</td>\n",
       "      <td>53.1000</td>\n",
       "      <td>0</td>\n",
       "      <td>0</td>\n",
       "      <td>True</td>\n",
       "      <td>False</td>\n",
       "      <td>False</td>\n",
       "      <td>False</td>\n",
       "      <td>False</td>\n",
       "      <td>True</td>\n",
       "    </tr>\n",
       "    <tr>\n",
       "      <th>4</th>\n",
       "      <td>0</td>\n",
       "      <td>3</td>\n",
       "      <td>1</td>\n",
       "      <td>35.0</td>\n",
       "      <td>0</td>\n",
       "      <td>0</td>\n",
       "      <td>8.0500</td>\n",
       "      <td>1</td>\n",
       "      <td>1</td>\n",
       "      <td>False</td>\n",
       "      <td>False</td>\n",
       "      <td>True</td>\n",
       "      <td>False</td>\n",
       "      <td>False</td>\n",
       "      <td>True</td>\n",
       "    </tr>\n",
       "  </tbody>\n",
       "</table>\n",
       "</div>"
      ],
      "text/plain": [
       "   survived  pclass  sex   age  sibsp  parch     fare  adult_male  alone  \\\n",
       "0         0       3    1  22.0      1      0   7.2500           1      0   \n",
       "1         1       1    0  38.0      1      0  71.2833           0      0   \n",
       "2         1       3    0  26.0      0      0   7.9250           0      1   \n",
       "3         1       1    0  35.0      1      0  53.1000           0      0   \n",
       "4         0       3    1  35.0      0      0   8.0500           1      1   \n",
       "\n",
       "   class_First  class_Second  class_Third  embarked_C  embarked_Q  embarked_S  \n",
       "0        False         False         True       False       False        True  \n",
       "1         True         False        False        True       False       False  \n",
       "2        False         False         True       False       False        True  \n",
       "3         True         False        False       False       False        True  \n",
       "4        False         False         True       False       False        True  "
      ]
     },
     "execution_count": 23,
     "metadata": {},
     "output_type": "execute_result"
    }
   ],
   "source": [
    "df.head(5)"
   ]
  },
  {
   "cell_type": "code",
   "execution_count": 24,
   "id": "0c8991f7",
   "metadata": {
    "execution": {
     "iopub.execute_input": "2024-09-20T12:02:58.723285Z",
     "iopub.status.busy": "2024-09-20T12:02:58.722856Z",
     "iopub.status.idle": "2024-09-20T12:02:58.730356Z",
     "shell.execute_reply": "2024-09-20T12:02:58.729287Z"
    },
    "papermill": {
     "duration": 0.025156,
     "end_time": "2024-09-20T12:02:58.732785",
     "exception": false,
     "start_time": "2024-09-20T12:02:58.707629",
     "status": "completed"
    },
    "tags": []
   },
   "outputs": [
    {
     "data": {
      "text/plain": [
       "dtype('bool')"
      ]
     },
     "execution_count": 24,
     "metadata": {},
     "output_type": "execute_result"
    }
   ],
   "source": [
    "df['class_First'].dtype"
   ]
  },
  {
   "cell_type": "markdown",
   "id": "1552fa08",
   "metadata": {
    "papermill": {
     "duration": 0.013666,
     "end_time": "2024-09-20T12:02:58.760583",
     "exception": false,
     "start_time": "2024-09-20T12:02:58.746917",
     "status": "completed"
    },
    "tags": []
   },
   "source": [
    "# **Converting One-Hot Encoded Columns to Integer Data Type**\n",
    "\n",
    "**The Down code** converts the **one-hot encoded columns** specified in columns_to_convert to **integer data type**, ensuring compatibility with machine learning algorithms."
   ]
  },
  {
   "cell_type": "code",
   "execution_count": 25,
   "id": "43d3887c",
   "metadata": {
    "execution": {
     "iopub.execute_input": "2024-09-20T12:02:58.790263Z",
     "iopub.status.busy": "2024-09-20T12:02:58.789815Z",
     "iopub.status.idle": "2024-09-20T12:02:58.799396Z",
     "shell.execute_reply": "2024-09-20T12:02:58.798140Z"
    },
    "papermill": {
     "duration": 0.027439,
     "end_time": "2024-09-20T12:02:58.802028",
     "exception": false,
     "start_time": "2024-09-20T12:02:58.774589",
     "status": "completed"
    },
    "tags": []
   },
   "outputs": [],
   "source": [
    "columns_to_convert = {'class_First':int, 'class_Second':int, 'class_Third':int, \n",
    "                     'embarked_C':int, 'embarked_Q':int, 'embarked_S':int}\n",
    "\n",
    "df = df.astype(columns_to_convert)"
   ]
  },
  {
   "cell_type": "code",
   "execution_count": 26,
   "id": "b8928a1d",
   "metadata": {
    "execution": {
     "iopub.execute_input": "2024-09-20T12:02:58.832499Z",
     "iopub.status.busy": "2024-09-20T12:02:58.832067Z",
     "iopub.status.idle": "2024-09-20T12:02:58.850215Z",
     "shell.execute_reply": "2024-09-20T12:02:58.848915Z"
    },
    "papermill": {
     "duration": 0.036335,
     "end_time": "2024-09-20T12:02:58.852494",
     "exception": false,
     "start_time": "2024-09-20T12:02:58.816159",
     "status": "completed"
    },
    "tags": []
   },
   "outputs": [
    {
     "data": {
      "text/html": [
       "<div>\n",
       "<style scoped>\n",
       "    .dataframe tbody tr th:only-of-type {\n",
       "        vertical-align: middle;\n",
       "    }\n",
       "\n",
       "    .dataframe tbody tr th {\n",
       "        vertical-align: top;\n",
       "    }\n",
       "\n",
       "    .dataframe thead th {\n",
       "        text-align: right;\n",
       "    }\n",
       "</style>\n",
       "<table border=\"1\" class=\"dataframe\">\n",
       "  <thead>\n",
       "    <tr style=\"text-align: right;\">\n",
       "      <th></th>\n",
       "      <th>survived</th>\n",
       "      <th>pclass</th>\n",
       "      <th>sex</th>\n",
       "      <th>age</th>\n",
       "      <th>sibsp</th>\n",
       "      <th>parch</th>\n",
       "      <th>fare</th>\n",
       "      <th>adult_male</th>\n",
       "      <th>alone</th>\n",
       "      <th>class_First</th>\n",
       "      <th>class_Second</th>\n",
       "      <th>class_Third</th>\n",
       "      <th>embarked_C</th>\n",
       "      <th>embarked_Q</th>\n",
       "      <th>embarked_S</th>\n",
       "    </tr>\n",
       "  </thead>\n",
       "  <tbody>\n",
       "    <tr>\n",
       "      <th>0</th>\n",
       "      <td>0</td>\n",
       "      <td>3</td>\n",
       "      <td>1</td>\n",
       "      <td>22.000000</td>\n",
       "      <td>1</td>\n",
       "      <td>0</td>\n",
       "      <td>7.2500</td>\n",
       "      <td>1</td>\n",
       "      <td>0</td>\n",
       "      <td>0</td>\n",
       "      <td>0</td>\n",
       "      <td>1</td>\n",
       "      <td>0</td>\n",
       "      <td>0</td>\n",
       "      <td>1</td>\n",
       "    </tr>\n",
       "    <tr>\n",
       "      <th>1</th>\n",
       "      <td>1</td>\n",
       "      <td>1</td>\n",
       "      <td>0</td>\n",
       "      <td>38.000000</td>\n",
       "      <td>1</td>\n",
       "      <td>0</td>\n",
       "      <td>71.2833</td>\n",
       "      <td>0</td>\n",
       "      <td>0</td>\n",
       "      <td>1</td>\n",
       "      <td>0</td>\n",
       "      <td>0</td>\n",
       "      <td>1</td>\n",
       "      <td>0</td>\n",
       "      <td>0</td>\n",
       "    </tr>\n",
       "    <tr>\n",
       "      <th>2</th>\n",
       "      <td>1</td>\n",
       "      <td>3</td>\n",
       "      <td>0</td>\n",
       "      <td>26.000000</td>\n",
       "      <td>0</td>\n",
       "      <td>0</td>\n",
       "      <td>7.9250</td>\n",
       "      <td>0</td>\n",
       "      <td>1</td>\n",
       "      <td>0</td>\n",
       "      <td>0</td>\n",
       "      <td>1</td>\n",
       "      <td>0</td>\n",
       "      <td>0</td>\n",
       "      <td>1</td>\n",
       "    </tr>\n",
       "    <tr>\n",
       "      <th>3</th>\n",
       "      <td>1</td>\n",
       "      <td>1</td>\n",
       "      <td>0</td>\n",
       "      <td>35.000000</td>\n",
       "      <td>1</td>\n",
       "      <td>0</td>\n",
       "      <td>53.1000</td>\n",
       "      <td>0</td>\n",
       "      <td>0</td>\n",
       "      <td>1</td>\n",
       "      <td>0</td>\n",
       "      <td>0</td>\n",
       "      <td>0</td>\n",
       "      <td>0</td>\n",
       "      <td>1</td>\n",
       "    </tr>\n",
       "    <tr>\n",
       "      <th>4</th>\n",
       "      <td>0</td>\n",
       "      <td>3</td>\n",
       "      <td>1</td>\n",
       "      <td>35.000000</td>\n",
       "      <td>0</td>\n",
       "      <td>0</td>\n",
       "      <td>8.0500</td>\n",
       "      <td>1</td>\n",
       "      <td>1</td>\n",
       "      <td>0</td>\n",
       "      <td>0</td>\n",
       "      <td>1</td>\n",
       "      <td>0</td>\n",
       "      <td>0</td>\n",
       "      <td>1</td>\n",
       "    </tr>\n",
       "    <tr>\n",
       "      <th>5</th>\n",
       "      <td>0</td>\n",
       "      <td>3</td>\n",
       "      <td>1</td>\n",
       "      <td>29.699118</td>\n",
       "      <td>0</td>\n",
       "      <td>0</td>\n",
       "      <td>8.4583</td>\n",
       "      <td>1</td>\n",
       "      <td>1</td>\n",
       "      <td>0</td>\n",
       "      <td>0</td>\n",
       "      <td>1</td>\n",
       "      <td>0</td>\n",
       "      <td>1</td>\n",
       "      <td>0</td>\n",
       "    </tr>\n",
       "    <tr>\n",
       "      <th>6</th>\n",
       "      <td>0</td>\n",
       "      <td>1</td>\n",
       "      <td>1</td>\n",
       "      <td>54.000000</td>\n",
       "      <td>0</td>\n",
       "      <td>0</td>\n",
       "      <td>51.8625</td>\n",
       "      <td>1</td>\n",
       "      <td>1</td>\n",
       "      <td>1</td>\n",
       "      <td>0</td>\n",
       "      <td>0</td>\n",
       "      <td>0</td>\n",
       "      <td>0</td>\n",
       "      <td>1</td>\n",
       "    </tr>\n",
       "    <tr>\n",
       "      <th>7</th>\n",
       "      <td>0</td>\n",
       "      <td>3</td>\n",
       "      <td>1</td>\n",
       "      <td>2.000000</td>\n",
       "      <td>3</td>\n",
       "      <td>1</td>\n",
       "      <td>21.0750</td>\n",
       "      <td>0</td>\n",
       "      <td>0</td>\n",
       "      <td>0</td>\n",
       "      <td>0</td>\n",
       "      <td>1</td>\n",
       "      <td>0</td>\n",
       "      <td>0</td>\n",
       "      <td>1</td>\n",
       "    </tr>\n",
       "    <tr>\n",
       "      <th>8</th>\n",
       "      <td>1</td>\n",
       "      <td>3</td>\n",
       "      <td>0</td>\n",
       "      <td>27.000000</td>\n",
       "      <td>0</td>\n",
       "      <td>2</td>\n",
       "      <td>11.1333</td>\n",
       "      <td>0</td>\n",
       "      <td>0</td>\n",
       "      <td>0</td>\n",
       "      <td>0</td>\n",
       "      <td>1</td>\n",
       "      <td>0</td>\n",
       "      <td>0</td>\n",
       "      <td>1</td>\n",
       "    </tr>\n",
       "    <tr>\n",
       "      <th>9</th>\n",
       "      <td>1</td>\n",
       "      <td>2</td>\n",
       "      <td>0</td>\n",
       "      <td>14.000000</td>\n",
       "      <td>1</td>\n",
       "      <td>0</td>\n",
       "      <td>30.0708</td>\n",
       "      <td>0</td>\n",
       "      <td>0</td>\n",
       "      <td>0</td>\n",
       "      <td>1</td>\n",
       "      <td>0</td>\n",
       "      <td>1</td>\n",
       "      <td>0</td>\n",
       "      <td>0</td>\n",
       "    </tr>\n",
       "  </tbody>\n",
       "</table>\n",
       "</div>"
      ],
      "text/plain": [
       "   survived  pclass  sex        age  sibsp  parch     fare  adult_male  alone  \\\n",
       "0         0       3    1  22.000000      1      0   7.2500           1      0   \n",
       "1         1       1    0  38.000000      1      0  71.2833           0      0   \n",
       "2         1       3    0  26.000000      0      0   7.9250           0      1   \n",
       "3         1       1    0  35.000000      1      0  53.1000           0      0   \n",
       "4         0       3    1  35.000000      0      0   8.0500           1      1   \n",
       "5         0       3    1  29.699118      0      0   8.4583           1      1   \n",
       "6         0       1    1  54.000000      0      0  51.8625           1      1   \n",
       "7         0       3    1   2.000000      3      1  21.0750           0      0   \n",
       "8         1       3    0  27.000000      0      2  11.1333           0      0   \n",
       "9         1       2    0  14.000000      1      0  30.0708           0      0   \n",
       "\n",
       "   class_First  class_Second  class_Third  embarked_C  embarked_Q  embarked_S  \n",
       "0            0             0            1           0           0           1  \n",
       "1            1             0            0           1           0           0  \n",
       "2            0             0            1           0           0           1  \n",
       "3            1             0            0           0           0           1  \n",
       "4            0             0            1           0           0           1  \n",
       "5            0             0            1           0           1           0  \n",
       "6            1             0            0           0           0           1  \n",
       "7            0             0            1           0           0           1  \n",
       "8            0             0            1           0           0           1  \n",
       "9            0             1            0           1           0           0  "
      ]
     },
     "execution_count": 26,
     "metadata": {},
     "output_type": "execute_result"
    }
   ],
   "source": [
    "df.head(10)"
   ]
  },
  {
   "cell_type": "markdown",
   "id": "7a910c82",
   "metadata": {
    "papermill": {
     "duration": 0.069293,
     "end_time": "2024-09-20T12:02:58.936298",
     "exception": false,
     "start_time": "2024-09-20T12:02:58.867005",
     "status": "completed"
    },
    "tags": []
   },
   "source": [
    "# **Removing Redundant Features**\n",
    "\n",
    "**The Down code** separates the **features (X)** and the **target variable (y)** for model training."
   ]
  },
  {
   "cell_type": "code",
   "execution_count": 27,
   "id": "56277521",
   "metadata": {
    "execution": {
     "iopub.execute_input": "2024-09-20T12:02:58.967481Z",
     "iopub.status.busy": "2024-09-20T12:02:58.967069Z",
     "iopub.status.idle": "2024-09-20T12:02:58.974464Z",
     "shell.execute_reply": "2024-09-20T12:02:58.973497Z"
    },
    "papermill": {
     "duration": 0.025269,
     "end_time": "2024-09-20T12:02:58.976867",
     "exception": false,
     "start_time": "2024-09-20T12:02:58.951598",
     "status": "completed"
    },
    "tags": []
   },
   "outputs": [],
   "source": [
    "X = df.drop('survived', axis = 1)\n",
    "y = df['survived']"
   ]
  },
  {
   "cell_type": "markdown",
   "id": "89888fb5",
   "metadata": {
    "papermill": {
     "duration": 0.014054,
     "end_time": "2024-09-20T12:02:59.005228",
     "exception": false,
     "start_time": "2024-09-20T12:02:58.991174",
     "status": "completed"
    },
    "tags": []
   },
   "source": [
    "**Splitting The Dataset Into Training and Testing**\n",
    "\n",
    "* **X and y:** These represent the features (independent variables) and the target variable (dependent variable), respectively.\n",
    "* **test_size=0.2:** This parameter specifies that 20% of the data will be used for testing.\n",
    "* **random_state=42:** This ensures that the data is split randomly but consistently, making the results reproducible."
   ]
  },
  {
   "cell_type": "code",
   "execution_count": 28,
   "id": "ca7b634e",
   "metadata": {
    "execution": {
     "iopub.execute_input": "2024-09-20T12:02:59.039381Z",
     "iopub.status.busy": "2024-09-20T12:02:59.038992Z",
     "iopub.status.idle": "2024-09-20T12:02:59.050844Z",
     "shell.execute_reply": "2024-09-20T12:02:59.049799Z"
    },
    "papermill": {
     "duration": 0.032495,
     "end_time": "2024-09-20T12:02:59.053729",
     "exception": false,
     "start_time": "2024-09-20T12:02:59.021234",
     "status": "completed"
    },
    "tags": []
   },
   "outputs": [],
   "source": [
    "X_train, X_test, y_train, y_test = train_test_split(X, y, test_size = 0.2, random_state = 42)"
   ]
  },
  {
   "cell_type": "code",
   "execution_count": 29,
   "id": "18ff66e5",
   "metadata": {
    "execution": {
     "iopub.execute_input": "2024-09-20T12:02:59.084868Z",
     "iopub.status.busy": "2024-09-20T12:02:59.084427Z",
     "iopub.status.idle": "2024-09-20T12:02:59.092083Z",
     "shell.execute_reply": "2024-09-20T12:02:59.090866Z"
    },
    "papermill": {
     "duration": 0.026287,
     "end_time": "2024-09-20T12:02:59.095188",
     "exception": false,
     "start_time": "2024-09-20T12:02:59.068901",
     "status": "completed"
    },
    "tags": []
   },
   "outputs": [
    {
     "data": {
      "text/plain": [
       "((712, 14), (179, 14))"
      ]
     },
     "execution_count": 29,
     "metadata": {},
     "output_type": "execute_result"
    }
   ],
   "source": [
    "X_train.shape, X_test.shape"
   ]
  },
  {
   "cell_type": "code",
   "execution_count": 30,
   "id": "7accdda5",
   "metadata": {
    "execution": {
     "iopub.execute_input": "2024-09-20T12:02:59.125573Z",
     "iopub.status.busy": "2024-09-20T12:02:59.125170Z",
     "iopub.status.idle": "2024-09-20T12:02:59.130280Z",
     "shell.execute_reply": "2024-09-20T12:02:59.128990Z"
    },
    "papermill": {
     "duration": 0.023171,
     "end_time": "2024-09-20T12:02:59.132810",
     "exception": false,
     "start_time": "2024-09-20T12:02:59.109639",
     "status": "completed"
    },
    "tags": []
   },
   "outputs": [],
   "source": [
    "model = lr()"
   ]
  },
  {
   "cell_type": "markdown",
   "id": "9ff9501b",
   "metadata": {
    "papermill": {
     "duration": 0.014806,
     "end_time": "2024-09-20T12:02:59.162511",
     "exception": false,
     "start_time": "2024-09-20T12:02:59.147705",
     "status": "completed"
    },
    "tags": []
   },
   "source": [
    "# **Fitting The Data Into Logistic Regression Model**"
   ]
  },
  {
   "cell_type": "code",
   "execution_count": 31,
   "id": "c69144f8",
   "metadata": {
    "execution": {
     "iopub.execute_input": "2024-09-20T12:02:59.195016Z",
     "iopub.status.busy": "2024-09-20T12:02:59.194480Z",
     "iopub.status.idle": "2024-09-20T12:02:59.250902Z",
     "shell.execute_reply": "2024-09-20T12:02:59.249729Z"
    },
    "papermill": {
     "duration": 0.075633,
     "end_time": "2024-09-20T12:02:59.253641",
     "exception": false,
     "start_time": "2024-09-20T12:02:59.178008",
     "status": "completed"
    },
    "tags": []
   },
   "outputs": [
    {
     "data": {
      "text/html": [
       "<style>#sk-container-id-1 {color: black;background-color: white;}#sk-container-id-1 pre{padding: 0;}#sk-container-id-1 div.sk-toggleable {background-color: white;}#sk-container-id-1 label.sk-toggleable__label {cursor: pointer;display: block;width: 100%;margin-bottom: 0;padding: 0.3em;box-sizing: border-box;text-align: center;}#sk-container-id-1 label.sk-toggleable__label-arrow:before {content: \"▸\";float: left;margin-right: 0.25em;color: #696969;}#sk-container-id-1 label.sk-toggleable__label-arrow:hover:before {color: black;}#sk-container-id-1 div.sk-estimator:hover label.sk-toggleable__label-arrow:before {color: black;}#sk-container-id-1 div.sk-toggleable__content {max-height: 0;max-width: 0;overflow: hidden;text-align: left;background-color: #f0f8ff;}#sk-container-id-1 div.sk-toggleable__content pre {margin: 0.2em;color: black;border-radius: 0.25em;background-color: #f0f8ff;}#sk-container-id-1 input.sk-toggleable__control:checked~div.sk-toggleable__content {max-height: 200px;max-width: 100%;overflow: auto;}#sk-container-id-1 input.sk-toggleable__control:checked~label.sk-toggleable__label-arrow:before {content: \"▾\";}#sk-container-id-1 div.sk-estimator input.sk-toggleable__control:checked~label.sk-toggleable__label {background-color: #d4ebff;}#sk-container-id-1 div.sk-label input.sk-toggleable__control:checked~label.sk-toggleable__label {background-color: #d4ebff;}#sk-container-id-1 input.sk-hidden--visually {border: 0;clip: rect(1px 1px 1px 1px);clip: rect(1px, 1px, 1px, 1px);height: 1px;margin: -1px;overflow: hidden;padding: 0;position: absolute;width: 1px;}#sk-container-id-1 div.sk-estimator {font-family: monospace;background-color: #f0f8ff;border: 1px dotted black;border-radius: 0.25em;box-sizing: border-box;margin-bottom: 0.5em;}#sk-container-id-1 div.sk-estimator:hover {background-color: #d4ebff;}#sk-container-id-1 div.sk-parallel-item::after {content: \"\";width: 100%;border-bottom: 1px solid gray;flex-grow: 1;}#sk-container-id-1 div.sk-label:hover label.sk-toggleable__label {background-color: #d4ebff;}#sk-container-id-1 div.sk-serial::before {content: \"\";position: absolute;border-left: 1px solid gray;box-sizing: border-box;top: 0;bottom: 0;left: 50%;z-index: 0;}#sk-container-id-1 div.sk-serial {display: flex;flex-direction: column;align-items: center;background-color: white;padding-right: 0.2em;padding-left: 0.2em;position: relative;}#sk-container-id-1 div.sk-item {position: relative;z-index: 1;}#sk-container-id-1 div.sk-parallel {display: flex;align-items: stretch;justify-content: center;background-color: white;position: relative;}#sk-container-id-1 div.sk-item::before, #sk-container-id-1 div.sk-parallel-item::before {content: \"\";position: absolute;border-left: 1px solid gray;box-sizing: border-box;top: 0;bottom: 0;left: 50%;z-index: -1;}#sk-container-id-1 div.sk-parallel-item {display: flex;flex-direction: column;z-index: 1;position: relative;background-color: white;}#sk-container-id-1 div.sk-parallel-item:first-child::after {align-self: flex-end;width: 50%;}#sk-container-id-1 div.sk-parallel-item:last-child::after {align-self: flex-start;width: 50%;}#sk-container-id-1 div.sk-parallel-item:only-child::after {width: 0;}#sk-container-id-1 div.sk-dashed-wrapped {border: 1px dashed gray;margin: 0 0.4em 0.5em 0.4em;box-sizing: border-box;padding-bottom: 0.4em;background-color: white;}#sk-container-id-1 div.sk-label label {font-family: monospace;font-weight: bold;display: inline-block;line-height: 1.2em;}#sk-container-id-1 div.sk-label-container {text-align: center;}#sk-container-id-1 div.sk-container {/* jupyter's `normalize.less` sets `[hidden] { display: none; }` but bootstrap.min.css set `[hidden] { display: none !important; }` so we also need the `!important` here to be able to override the default hidden behavior on the sphinx rendered scikit-learn.org. See: https://github.com/scikit-learn/scikit-learn/issues/21755 */display: inline-block !important;position: relative;}#sk-container-id-1 div.sk-text-repr-fallback {display: none;}</style><div id=\"sk-container-id-1\" class=\"sk-top-container\"><div class=\"sk-text-repr-fallback\"><pre>LogisticRegression()</pre><b>In a Jupyter environment, please rerun this cell to show the HTML representation or trust the notebook. <br />On GitHub, the HTML representation is unable to render, please try loading this page with nbviewer.org.</b></div><div class=\"sk-container\" hidden><div class=\"sk-item\"><div class=\"sk-estimator sk-toggleable\"><input class=\"sk-toggleable__control sk-hidden--visually\" id=\"sk-estimator-id-1\" type=\"checkbox\" checked><label for=\"sk-estimator-id-1\" class=\"sk-toggleable__label sk-toggleable__label-arrow\">LogisticRegression</label><div class=\"sk-toggleable__content\"><pre>LogisticRegression()</pre></div></div></div></div></div>"
      ],
      "text/plain": [
       "LogisticRegression()"
      ]
     },
     "execution_count": 31,
     "metadata": {},
     "output_type": "execute_result"
    }
   ],
   "source": [
    "model.fit(X_train, y_train)"
   ]
  },
  {
   "cell_type": "markdown",
   "id": "d0060f47",
   "metadata": {
    "papermill": {
     "duration": 0.024482,
     "end_time": "2024-09-20T12:02:59.304876",
     "exception": false,
     "start_time": "2024-09-20T12:02:59.280394",
     "status": "completed"
    },
    "tags": []
   },
   "source": [
    "**Making Predictions**"
   ]
  },
  {
   "cell_type": "code",
   "execution_count": 32,
   "id": "e2c1cb01",
   "metadata": {
    "execution": {
     "iopub.execute_input": "2024-09-20T12:02:59.359448Z",
     "iopub.status.busy": "2024-09-20T12:02:59.358876Z",
     "iopub.status.idle": "2024-09-20T12:02:59.370933Z",
     "shell.execute_reply": "2024-09-20T12:02:59.369653Z"
    },
    "papermill": {
     "duration": 0.042005,
     "end_time": "2024-09-20T12:02:59.373621",
     "exception": false,
     "start_time": "2024-09-20T12:02:59.331616",
     "status": "completed"
    },
    "tags": []
   },
   "outputs": [
    {
     "data": {
      "text/plain": [
       "array([0, 0, 0, 1, 1, 1, 1, 0, 1, 1, 0, 0, 0, 0, 0, 1, 0, 1, 0, 0, 0, 0,\n",
       "       1, 0, 0, 0, 0, 0, 0, 1, 0, 1, 0, 1, 0, 0, 0, 1, 1, 0, 0, 0, 0, 0,\n",
       "       1, 0, 0, 0, 0, 0, 1, 1, 0, 1, 0, 1, 0, 1, 1, 1, 0, 1, 1, 0, 0, 1,\n",
       "       0, 0, 0, 1, 1, 1, 0, 1, 0, 0, 1, 1, 1, 1, 0, 1, 1, 0, 0, 0, 1, 1,\n",
       "       0, 0, 1, 0, 0, 0, 0, 0, 0, 0, 1, 0, 0, 0, 1, 0, 0, 0, 1, 0, 0, 0,\n",
       "       1, 0, 1, 0, 1, 0, 0, 0, 1, 0, 0, 1, 1, 1, 0, 0, 1, 1, 1, 0, 1, 0,\n",
       "       0, 1, 0, 1, 1, 0, 0, 1, 0, 1, 0, 0, 0, 1, 0, 0, 1, 0, 0, 0, 0, 1,\n",
       "       0, 0, 0, 1, 1, 1, 0, 0, 0, 1, 0, 0, 0, 1, 0, 0, 1, 1, 0, 1, 0, 0,\n",
       "       0, 1, 1])"
      ]
     },
     "execution_count": 32,
     "metadata": {},
     "output_type": "execute_result"
    }
   ],
   "source": [
    "y_pred = model.predict(X_test)\n",
    "y_pred"
   ]
  },
  {
   "cell_type": "markdown",
   "id": "417e40ea",
   "metadata": {
    "papermill": {
     "duration": 0.014895,
     "end_time": "2024-09-20T12:02:59.403678",
     "exception": false,
     "start_time": "2024-09-20T12:02:59.388783",
     "status": "completed"
    },
    "tags": []
   },
   "source": [
    "**Checking Model Score**"
   ]
  },
  {
   "cell_type": "code",
   "execution_count": 33,
   "id": "82add010",
   "metadata": {
    "execution": {
     "iopub.execute_input": "2024-09-20T12:02:59.436373Z",
     "iopub.status.busy": "2024-09-20T12:02:59.435713Z",
     "iopub.status.idle": "2024-09-20T12:02:59.449375Z",
     "shell.execute_reply": "2024-09-20T12:02:59.448159Z"
    },
    "papermill": {
     "duration": 0.03274,
     "end_time": "2024-09-20T12:02:59.452247",
     "exception": false,
     "start_time": "2024-09-20T12:02:59.419507",
     "status": "completed"
    },
    "tags": []
   },
   "outputs": [
    {
     "data": {
      "text/plain": [
       "0.8100558659217877"
      ]
     },
     "execution_count": 33,
     "metadata": {},
     "output_type": "execute_result"
    }
   ],
   "source": [
    "model.score(X_test, y_test)"
   ]
  },
  {
   "cell_type": "code",
   "execution_count": 34,
   "id": "4909276e",
   "metadata": {
    "execution": {
     "iopub.execute_input": "2024-09-20T12:02:59.486224Z",
     "iopub.status.busy": "2024-09-20T12:02:59.485815Z",
     "iopub.status.idle": "2024-09-20T12:02:59.493826Z",
     "shell.execute_reply": "2024-09-20T12:02:59.492715Z"
    },
    "papermill": {
     "duration": 0.028326,
     "end_time": "2024-09-20T12:02:59.496696",
     "exception": false,
     "start_time": "2024-09-20T12:02:59.468370",
     "status": "completed"
    },
    "tags": []
   },
   "outputs": [],
   "source": [
    "cm = confusion_matrix(y_test, y_pred)"
   ]
  },
  {
   "cell_type": "markdown",
   "id": "82cfd506",
   "metadata": {
    "papermill": {
     "duration": 0.014637,
     "end_time": "2024-09-20T12:02:59.526576",
     "exception": false,
     "start_time": "2024-09-20T12:02:59.511939",
     "status": "completed"
    },
    "tags": []
   },
   "source": [
    "# **Creating Heatmap**\n",
    "\n",
    "Now Let's create a Heatmap To Visualize Our Model Performance!"
   ]
  },
  {
   "cell_type": "code",
   "execution_count": 35,
   "id": "3e994a2d",
   "metadata": {
    "execution": {
     "iopub.execute_input": "2024-09-20T12:02:59.558350Z",
     "iopub.status.busy": "2024-09-20T12:02:59.557966Z",
     "iopub.status.idle": "2024-09-20T12:02:59.860343Z",
     "shell.execute_reply": "2024-09-20T12:02:59.859115Z"
    },
    "papermill": {
     "duration": 0.321128,
     "end_time": "2024-09-20T12:02:59.862752",
     "exception": false,
     "start_time": "2024-09-20T12:02:59.541624",
     "status": "completed"
    },
    "tags": []
   },
   "outputs": [
    {
     "data": {
      "image/png": "[encoded data removed]",
      "text/plain": [
       "<Figure size 600x400 with 2 Axes>"
      ]
     },
     "metadata": {},
     "output_type": "display_data"
    }
   ],
   "source": [
    "plt.figure(figsize = (6, 4))\n",
    "sns.heatmap(cm, annot = True, cmap = 'Blues')\n",
    "\n",
    "plt.xlabel('Prediced Labels')\n",
    "plt.ylabel('Actual Labels')\n",
    "plt.title('Confusion Matrix')\n",
    "plt.show()"
   ]
  },
  {
   "cell_type": "markdown",
   "id": "2e5f27c5",
   "metadata": {
    "papermill": {
     "duration": 0.015862,
     "end_time": "2024-09-20T12:02:59.894014",
     "exception": false,
     "start_time": "2024-09-20T12:02:59.878152",
     "status": "completed"
    },
    "tags": []
   },
   "source": [
    "# **Evaluating Model Performance**"
   ]
  },
  {
   "cell_type": "code",
   "execution_count": 36,
   "id": "7c9f6494",
   "metadata": {
    "execution": {
     "iopub.execute_input": "2024-09-20T12:02:59.927765Z",
     "iopub.status.busy": "2024-09-20T12:02:59.927299Z",
     "iopub.status.idle": "2024-09-20T12:02:59.944107Z",
     "shell.execute_reply": "2024-09-20T12:02:59.942591Z"
    },
    "papermill": {
     "duration": 0.036777,
     "end_time": "2024-09-20T12:02:59.946965",
     "exception": false,
     "start_time": "2024-09-20T12:02:59.910188",
     "status": "completed"
    },
    "tags": []
   },
   "outputs": [],
   "source": [
    "accuracy = accuracy_score(y_test, y_pred)\n",
    "precision = precision_score(y_test, y_pred)\n",
    "recall = recall_score(y_test, y_pred)\n",
    "f1 = f1_score(y_test, y_pred) "
   ]
  },
  {
   "cell_type": "code",
   "execution_count": 37,
   "id": "23232c84",
   "metadata": {
    "execution": {
     "iopub.execute_input": "2024-09-20T12:02:59.979523Z",
     "iopub.status.busy": "2024-09-20T12:02:59.979118Z",
     "iopub.status.idle": "2024-09-20T12:02:59.986231Z",
     "shell.execute_reply": "2024-09-20T12:02:59.984713Z"
    },
    "papermill": {
     "duration": 0.027127,
     "end_time": "2024-09-20T12:02:59.989502",
     "exception": false,
     "start_time": "2024-09-20T12:02:59.962375",
     "status": "completed"
    },
    "tags": []
   },
   "outputs": [
    {
     "name": "stdout",
     "output_type": "stream",
     "text": [
      "Model Accuracy: 81.01%\n",
      "Precision Score: 0.79\n",
      "Recall: 0.74\n",
      "F1-Score: 0.76\n"
     ]
    }
   ],
   "source": [
    "print(f\"Model Accuracy: {accuracy * 100:.2f}%\")\n",
    "print(f\"Precision Score: {precision:.2f}\")\n",
    "print(f\"Recall: {recall:.2f}\")\n",
    "print(f\"F1-Score: {f1:.2f}\")"
   ]
  },
  {
   "cell_type": "markdown",
   "id": "e8fbd296",
   "metadata": {
    "papermill": {
     "duration": 0.015488,
     "end_time": "2024-09-20T12:03:00.022422",
     "exception": false,
     "start_time": "2024-09-20T12:03:00.006934",
     "status": "completed"
    },
    "tags": []
   },
   "source": [
    "# **Visualizing Model Performance**"
   ]
  },
  {
   "cell_type": "code",
   "execution_count": 38,
   "id": "2cdfa214",
   "metadata": {
    "execution": {
     "iopub.execute_input": "2024-09-20T12:03:00.058093Z",
     "iopub.status.busy": "2024-09-20T12:03:00.056628Z",
     "iopub.status.idle": "2024-09-20T12:03:00.293808Z",
     "shell.execute_reply": "2024-09-20T12:03:00.292657Z"
    },
    "papermill": {
     "duration": 0.256926,
     "end_time": "2024-09-20T12:03:00.296531",
     "exception": false,
     "start_time": "2024-09-20T12:03:00.039605",
     "status": "completed"
    },
    "tags": []
   },
   "outputs": [
    {
     "data": {
      "image/png": "[encoded data removed]",
      "text/plain": [
       "<Figure size 600x400 with 1 Axes>"
      ]
     },
     "metadata": {},
     "output_type": "display_data"
    }
   ],
   "source": [
    "metrics = ['Accuracy', 'Precision', 'Recall', 'F1-Score']\n",
    "scores = [accuracy * 100, precision, recall, f1]\n",
    "\n",
    "plt.figure(figsize = (6, 4))\n",
    "plt.bar(metrics, scores)\n",
    "plt.xlabel('Metrics')\n",
    "plt.ylabel('Score')\n",
    "plt.title('Model Performance')\n",
    "plt.show()"
   ]
  },
  {
   "cell_type": "code",
   "execution_count": 39,
   "id": "99efa722",
   "metadata": {
    "execution": {
     "iopub.execute_input": "2024-09-20T12:03:00.332429Z",
     "iopub.status.busy": "2024-09-20T12:03:00.332007Z",
     "iopub.status.idle": "2024-09-20T12:03:00.486719Z",
     "shell.execute_reply": "2024-09-20T12:03:00.485208Z"
    },
    "papermill": {
     "duration": 0.176859,
     "end_time": "2024-09-20T12:03:00.490284",
     "exception": false,
     "start_time": "2024-09-20T12:03:00.313425",
     "status": "completed"
    },
    "tags": []
   },
   "outputs": [
    {
     "data": {
      "image/png": "[encoded data removed]",
      "text/plain": [
       "<Figure size 640x480 with 1 Axes>"
      ]
     },
     "metadata": {},
     "output_type": "display_data"
    }
   ],
   "source": [
    "plt.pie(scores, labels = metrics)\n",
    "plt.title('Model Performance')\n",
    "plt.show()"
   ]
  },
  {
   "cell_type": "code",
   "execution_count": null,
   "id": "ad828bdd",
   "metadata": {
    "papermill": {
     "duration": 0.027236,
     "end_time": "2024-09-20T12:03:00.545456",
     "exception": false,
     "start_time": "2024-09-20T12:03:00.518220",
     "status": "completed"
    },
    "tags": []
   },
   "outputs": [],
   "source": []
  }
 ],
 "metadata": {
  "kaggle": {
   "accelerator": "none",
   "dataSources": [],
   "dockerImageVersionId": 30761,
   "isGpuEnabled": false,
   "isInternetEnabled": true,
   "language": "python",
   "sourceType": "notebook"
  },
  "kernelspec": {
   "display_name": "Python 3",
   "language": "python",
   "name": "python3"
  },
  "language_info": {
   "codemirror_mode": {
    "name": "ipython",
    "version": 3
   },
   "file_extension": ".py",
   "mimetype": "text/x-python",
   "name": "python",
   "nbconvert_exporter": "python",
   "pygments_lexer": "ipython3",
   "version": "3.10.14"
  },
  "papermill": {
   "default_parameters": {},
   "duration": 10.170827,
   "end_time": "2024-09-20T12:03:01.285919",
   "environment_variables": {},
   "exception": null,
   "input_path": "__notebook__.ipynb",
   "output_path": "__notebook__.ipynb",
   "parameters": {},
   "start_time": "2024-09-20T12:02:51.115092",
   "version": "2.6.0"
  }
 },
 "nbformat": 4,
 "nbformat_minor": 5
}
